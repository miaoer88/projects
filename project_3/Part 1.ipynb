{
 "cells": [
  {
   "cell_type": "markdown",
   "id": "b002370f-fe24-4178-8d67-be34572664a1",
   "metadata": {},
   "source": [
    "<img src=\"http://imgur.com/1ZcRyrc.png\" style=\"float: left; margin: 20px; height: 55px\">\n",
    "\n",
    "# Project 3: NLP on Intermittent Fasting and Keto Diet\n",
    "\n",
    "---"
   ]
  },
  {
   "cell_type": "markdown",
   "id": "076ae66f-f0dd-4fd1-8395-75c50e56a1a9",
   "metadata": {},
   "source": [
    "# Part 1"
   ]
  },
  {
   "cell_type": "markdown",
   "id": "ddcf0e52-248e-443c-b423-a8dc38e2c58e",
   "metadata": {},
   "source": [
    "# Problem Statement\n",
    "\n",
    "We are part of the nutritional/weight loss company helping stakeholder to identify which are the current trend to promote weight loss strategy. Therefore, the purpose of our study include:\n",
    "1.\tUsing Pushshift's API to collect posts from subreddits of intermittent fasting and keto diet.\n",
    "2.\tWe'll then use NLP to train a classifier on which subreddit a given post came from.\n"
   ]
  },
  {
   "cell_type": "markdown",
   "id": "3ae32272-eb2a-4c97-8c2c-a8b8ace2fcd2",
   "metadata": {},
   "source": [
    "# Background"
   ]
  },
  {
   "cell_type": "markdown",
   "id": "66439bee-dcde-45f3-8bb8-6a98710e0d0b",
   "metadata": {},
   "source": [
    "Weight loss is nowadays trend, not only benefit in maintaining good body figure but also associate with health advantages. Intermittent fasting and the keto diet are both popular weight loss options that boast plenty of success stories. Some people have seen fantastic results with keto, while others advocate intermittent fasting. \n",
    "\n",
    "The keto diet is a high-protein, low-carbohydrate, and fat-rich diet that can be too restrictive for some people. Intermittent fasting is an eating pattern that involves alternating periods of not eating with periods of regular food consumption.\n",
    "\n",
    "When it comes to intermittent fasting vs keto for weight loss, both prove effective. However, the differences come into play with the long-term effects of pounds lost, and the health advantages that are associated. \n"
   ]
  },
  {
   "cell_type": "markdown",
   "id": "285a2a62-51c6-4fd0-9066-e019460afafe",
   "metadata": {},
   "source": [
    "[Check here to read Review Article on Advantages and Disadvantages of the Ketogenic Diet.](https://www.ncbi.nlm.nih.gov/pmc/articles/PMC7480775/)\n",
    "\n",
    "[Check here for the study on Intermittent Fasting and Metabolic Health.](https://www.ncbi.nlm.nih.gov/pmc/articles/PMC8839325/)"
   ]
  },
  {
   "cell_type": "markdown",
   "id": "3d2cb123-368f-43ca-9f56-688b63d0dc8f",
   "metadata": {},
   "source": [
    "## Contents\n",
    "\n",
    "Part 1: \n",
    "- Importing Libraries & Reddit Scrapping\n",
    "\n",
    "Part 2:\n",
    "- Loading the data set & Exploratory Data Analysis(EDA)\n",
    "- EDA before Text pre-processing\n",
    "- Text pre-processing\n",
    "- EDA after Text pre-processing\n",
    "- Sentiment Analysis\n",
    "- Export Dataset for Modeling\n",
    "\n",
    "Part 3: \n",
    "- Baseline Model\n",
    "- Modelling\n",
    "- Evaluation and Conceptual Understanding\n",
    "- Conclusion and Recommendations"
   ]
  },
  {
   "cell_type": "markdown",
   "id": "bc158cc1-413f-4b55-b34a-87b44002e529",
   "metadata": {},
   "source": [
    "# Importing Libraries & Reddit Scrapping"
   ]
  },
  {
   "cell_type": "code",
   "execution_count": 1,
   "id": "1d200f04-d90e-4add-8ff9-13b7b95a6d5c",
   "metadata": {},
   "outputs": [],
   "source": [
    "#pip install pmaw pandas\n",
    "import pandas as pd\n",
    "from pmaw import PushshiftAPI\n",
    "api = PushshiftAPI()\n",
    "# this setting widens how many characters pandas will display in a column:\n",
    "pd.options.display.max_colwidth = 400"
   ]
  },
  {
   "cell_type": "code",
   "execution_count": 2,
   "id": "24f2be6a-2e9b-4809-87aa-ee7beb84eb10",
   "metadata": {},
   "outputs": [
    {
     "name": "stdout",
     "output_type": "stream",
     "text": [
      "Retrieved 10000 comments from Pushshift\n"
     ]
    }
   ],
   "source": [
    "comments = api.search_submissions(subreddit='intermittentfasting', limit=10000, after=1609459200)\n",
    "print(f'Retrieved {len(comments)} comments from Pushshift')"
   ]
  },
  {
   "cell_type": "code",
   "execution_count": 3,
   "id": "e1421718-5bc8-447f-963a-d58da0e20483",
   "metadata": {},
   "outputs": [
    {
     "data": {
      "text/html": [
       "<div>\n",
       "<style scoped>\n",
       "    .dataframe tbody tr th:only-of-type {\n",
       "        vertical-align: middle;\n",
       "    }\n",
       "\n",
       "    .dataframe tbody tr th {\n",
       "        vertical-align: top;\n",
       "    }\n",
       "\n",
       "    .dataframe thead th {\n",
       "        text-align: right;\n",
       "    }\n",
       "</style>\n",
       "<table border=\"1\" class=\"dataframe\">\n",
       "  <thead>\n",
       "    <tr style=\"text-align: right;\">\n",
       "      <th></th>\n",
       "      <th>all_awardings</th>\n",
       "      <th>allow_live_comments</th>\n",
       "      <th>author</th>\n",
       "      <th>author_flair_css_class</th>\n",
       "      <th>author_flair_richtext</th>\n",
       "      <th>author_flair_text</th>\n",
       "      <th>author_flair_type</th>\n",
       "      <th>author_fullname</th>\n",
       "      <th>author_patreon_flair</th>\n",
       "      <th>author_premium</th>\n",
       "      <th>...</th>\n",
       "      <th>author_flair_text_color</th>\n",
       "      <th>author_is_blocked</th>\n",
       "      <th>media</th>\n",
       "      <th>media_embed</th>\n",
       "      <th>secure_media</th>\n",
       "      <th>secure_media_embed</th>\n",
       "      <th>author_flair_background_color</th>\n",
       "      <th>banned_by</th>\n",
       "      <th>edited</th>\n",
       "      <th>gilded</th>\n",
       "    </tr>\n",
       "  </thead>\n",
       "  <tbody>\n",
       "    <tr>\n",
       "      <th>0</th>\n",
       "      <td>[]</td>\n",
       "      <td>False</td>\n",
       "      <td>mayday_dnaenae</td>\n",
       "      <td>None</td>\n",
       "      <td>[]</td>\n",
       "      <td>None</td>\n",
       "      <td>text</td>\n",
       "      <td>t2_2uv8y28u</td>\n",
       "      <td>False</td>\n",
       "      <td>False</td>\n",
       "      <td>...</td>\n",
       "      <td>NaN</td>\n",
       "      <td>NaN</td>\n",
       "      <td>NaN</td>\n",
       "      <td>NaN</td>\n",
       "      <td>NaN</td>\n",
       "      <td>NaN</td>\n",
       "      <td>NaN</td>\n",
       "      <td>NaN</td>\n",
       "      <td>NaN</td>\n",
       "      <td>NaN</td>\n",
       "    </tr>\n",
       "    <tr>\n",
       "      <th>1</th>\n",
       "      <td>[]</td>\n",
       "      <td>False</td>\n",
       "      <td>cristiano77th</td>\n",
       "      <td>None</td>\n",
       "      <td>[]</td>\n",
       "      <td>None</td>\n",
       "      <td>text</td>\n",
       "      <td>t2_64exqslw</td>\n",
       "      <td>False</td>\n",
       "      <td>False</td>\n",
       "      <td>...</td>\n",
       "      <td>NaN</td>\n",
       "      <td>NaN</td>\n",
       "      <td>NaN</td>\n",
       "      <td>NaN</td>\n",
       "      <td>NaN</td>\n",
       "      <td>NaN</td>\n",
       "      <td>NaN</td>\n",
       "      <td>NaN</td>\n",
       "      <td>NaN</td>\n",
       "      <td>NaN</td>\n",
       "    </tr>\n",
       "    <tr>\n",
       "      <th>2</th>\n",
       "      <td>[]</td>\n",
       "      <td>False</td>\n",
       "      <td>Funny-Record-6039</td>\n",
       "      <td>None</td>\n",
       "      <td>[]</td>\n",
       "      <td>None</td>\n",
       "      <td>text</td>\n",
       "      <td>t2_c1cw13mx</td>\n",
       "      <td>False</td>\n",
       "      <td>False</td>\n",
       "      <td>...</td>\n",
       "      <td>NaN</td>\n",
       "      <td>NaN</td>\n",
       "      <td>NaN</td>\n",
       "      <td>NaN</td>\n",
       "      <td>NaN</td>\n",
       "      <td>NaN</td>\n",
       "      <td>NaN</td>\n",
       "      <td>NaN</td>\n",
       "      <td>NaN</td>\n",
       "      <td>NaN</td>\n",
       "    </tr>\n",
       "    <tr>\n",
       "      <th>3</th>\n",
       "      <td>[]</td>\n",
       "      <td>False</td>\n",
       "      <td>AnxiousHeadOfLettuce</td>\n",
       "      <td>None</td>\n",
       "      <td>[]</td>\n",
       "      <td>None</td>\n",
       "      <td>text</td>\n",
       "      <td>t2_bfomj07b</td>\n",
       "      <td>False</td>\n",
       "      <td>False</td>\n",
       "      <td>...</td>\n",
       "      <td>NaN</td>\n",
       "      <td>NaN</td>\n",
       "      <td>NaN</td>\n",
       "      <td>NaN</td>\n",
       "      <td>NaN</td>\n",
       "      <td>NaN</td>\n",
       "      <td>NaN</td>\n",
       "      <td>NaN</td>\n",
       "      <td>NaN</td>\n",
       "      <td>NaN</td>\n",
       "    </tr>\n",
       "    <tr>\n",
       "      <th>4</th>\n",
       "      <td>[]</td>\n",
       "      <td>False</td>\n",
       "      <td>valkaress</td>\n",
       "      <td>None</td>\n",
       "      <td>[]</td>\n",
       "      <td>None</td>\n",
       "      <td>text</td>\n",
       "      <td>t2_4ckw169q</td>\n",
       "      <td>False</td>\n",
       "      <td>False</td>\n",
       "      <td>...</td>\n",
       "      <td>NaN</td>\n",
       "      <td>NaN</td>\n",
       "      <td>NaN</td>\n",
       "      <td>NaN</td>\n",
       "      <td>NaN</td>\n",
       "      <td>NaN</td>\n",
       "      <td>NaN</td>\n",
       "      <td>NaN</td>\n",
       "      <td>NaN</td>\n",
       "      <td>NaN</td>\n",
       "    </tr>\n",
       "  </tbody>\n",
       "</table>\n",
       "<p>5 rows × 84 columns</p>\n",
       "</div>"
      ],
      "text/plain": [
       "  all_awardings  allow_live_comments                author  \\\n",
       "0            []                False        mayday_dnaenae   \n",
       "1            []                False         cristiano77th   \n",
       "2            []                False     Funny-Record-6039   \n",
       "3            []                False  AnxiousHeadOfLettuce   \n",
       "4            []                False             valkaress   \n",
       "\n",
       "  author_flair_css_class author_flair_richtext author_flair_text  \\\n",
       "0                   None                    []              None   \n",
       "1                   None                    []              None   \n",
       "2                   None                    []              None   \n",
       "3                   None                    []              None   \n",
       "4                   None                    []              None   \n",
       "\n",
       "  author_flair_type author_fullname author_patreon_flair author_premium  ...  \\\n",
       "0              text     t2_2uv8y28u                False          False  ...   \n",
       "1              text     t2_64exqslw                False          False  ...   \n",
       "2              text     t2_c1cw13mx                False          False  ...   \n",
       "3              text     t2_bfomj07b                False          False  ...   \n",
       "4              text     t2_4ckw169q                False          False  ...   \n",
       "\n",
       "  author_flair_text_color  author_is_blocked  media  media_embed secure_media  \\\n",
       "0                     NaN                NaN    NaN          NaN          NaN   \n",
       "1                     NaN                NaN    NaN          NaN          NaN   \n",
       "2                     NaN                NaN    NaN          NaN          NaN   \n",
       "3                     NaN                NaN    NaN          NaN          NaN   \n",
       "4                     NaN                NaN    NaN          NaN          NaN   \n",
       "\n",
       "  secure_media_embed author_flair_background_color banned_by edited  gilded  \n",
       "0                NaN                           NaN       NaN    NaN     NaN  \n",
       "1                NaN                           NaN       NaN    NaN     NaN  \n",
       "2                NaN                           NaN       NaN    NaN     NaN  \n",
       "3                NaN                           NaN       NaN    NaN     NaN  \n",
       "4                NaN                           NaN       NaN    NaN     NaN  \n",
       "\n",
       "[5 rows x 84 columns]"
      ]
     },
     "execution_count": 3,
     "metadata": {},
     "output_type": "execute_result"
    }
   ],
   "source": [
    "df = pd.DataFrame(comments)\n",
    "# preview the comments data\n",
    "df.head()"
   ]
  },
  {
   "cell_type": "code",
   "execution_count": 4,
   "id": "06ae28d0-ba41-463c-840e-234bf83126a3",
   "metadata": {},
   "outputs": [
    {
     "data": {
      "text/plain": [
       "0    I (27F) have been intermittent fasting for about 2 months. My starting weight was about 145lbs. The first week I did 14:8 and I lost 5 lbs. I didn't change any other habits. I hit a plateau partway through the 2nd week. I've been stuck around 135 lbs. I increased my IF to 18:6 and amped up my workout plan by adding longer, more intense cardio sessions and mixing in some strength training. It's...\n",
       "1                                                                                                                                                                                                                                                                                                                                  I am healthy and i walk alot in a day. Should i stop walking while water fasting?\n",
       "2                                                                                                                                                                                                                                                                                                                                                                                                                   \n",
       "3                                                                                                                                                                                                                                                                                                                                             Also, is it ok to do one week skip breakfast, another week skip lunch?\n",
       "4    I started lifting 4x/week (about 40 minutes), as well as taking a lot of martial arts classes. On monday for example I had nearly 3 hours of exercising in total (2 MA + lift).\\n\\nI've only just started, and so far I've been sticking to my IF/OMAD routine where I skip breakfast and only eat lunch. Which means I was on a long fast for some of those exercises. And I still felt fine.\\n\\nSo my ques...\n",
       "Name: selftext, dtype: object"
      ]
     },
     "execution_count": 4,
     "metadata": {},
     "output_type": "execute_result"
    }
   ],
   "source": [
    "df['selftext'].head()"
   ]
  },
  {
   "cell_type": "code",
   "execution_count": 5,
   "id": "a407ee73-d728-4b06-9f22-1d95df60349c",
   "metadata": {},
   "outputs": [
    {
     "data": {
      "text/plain": [
       "19"
      ]
     },
     "execution_count": 5,
     "metadata": {},
     "output_type": "execute_result"
    }
   ],
   "source": [
    "df['selftext'].isnull().sum()"
   ]
  },
  {
   "cell_type": "code",
   "execution_count": 6,
   "id": "f63ec7c9-b96a-4b13-a685-bd5532bb6465",
   "metadata": {},
   "outputs": [
    {
     "data": {
      "text/plain": [
       "0    660.0\n",
       "1     81.0\n",
       "2      0.0\n",
       "3     70.0\n",
       "4    679.0\n",
       "Name: text_length, dtype: float64"
      ]
     },
     "execution_count": 6,
     "metadata": {},
     "output_type": "execute_result"
    }
   ],
   "source": [
    "df['text_length'] = df['selftext'].str.len()\n",
    "df['text_length'].head()"
   ]
  },
  {
   "cell_type": "code",
   "execution_count": 7,
   "id": "4beb3d9b-8fb1-4453-b9c4-2471dedff73c",
   "metadata": {},
   "outputs": [
    {
     "data": {
      "text/plain": [
       "False    5312\n",
       "True     4688\n",
       "Name: text_length, dtype: int64"
      ]
     },
     "execution_count": 7,
     "metadata": {},
     "output_type": "execute_result"
    }
   ],
   "source": [
    "(df['text_length']>100).value_counts()"
   ]
  },
  {
   "cell_type": "code",
   "execution_count": 8,
   "id": "5b8e3ced-d404-4641-b068-3c7174db4da9",
   "metadata": {},
   "outputs": [
    {
     "data": {
      "text/plain": [
       "0       I (27F) have been intermittent fasting for about 2 months. My starting weight was about 145lbs. The first week I did 14:8 and I lost 5 lbs. I didn't change any other habits. I hit a plateau partway through the 2nd week. I've been stuck around 135 lbs. I increased my IF to 18:6 and amped up my workout plan by adding longer, more intense cardio sessions and mixing in some strength training. It's...\n",
       "4       I started lifting 4x/week (about 40 minutes), as well as taking a lot of martial arts classes. On monday for example I had nearly 3 hours of exercising in total (2 MA + lift).\\n\\nI've only just started, and so far I've been sticking to my IF/OMAD routine where I skip breakfast and only eat lunch. Which means I was on a long fast for some of those exercises. And I still felt fine.\\n\\nSo my ques...\n",
       "5       Hello everyone,\\n\\n  I am a mostly lurker here in reddit. First I'd like to say that I started my IF journey almost a year ago, and saw incredible results, It is the first time I am able to, without external influence (ie. injury, diet imposition by SO, etc.) to lose weight in a consistent fashion.\\n\\n  Ok, on to the topic. I saw a fat person waking by and surprised myself by thinking somethin...\n",
       "6       Hi everyone,\\n\\nI have been doing IF (16:8) for almost 3 years. I have remained consistent in terms of weight (138-141lbs) in these 3 years. I am 5' 5.5\". Recently I started 20:4 to push my metabolism a little. I lost my weight from 141-140 in about a week ish. I have strated  to eat low-carb diet to help me with fasting. I am fairly good on the weekdays. However I want to enjoy my weekend and...\n",
       "7       So, due to loss of employment, family has taken me in. Not to be a bother I am trying to use as little as I can before getting back on my feet. My brother makes lunch at 1 PM and the family eats together at 8 PM. So to my understanding of how Intermittent fasting works is, if I wake up at 9 AM, eat first meal at 1 PM and the second meal no longer than 8 hours after the first meal, this will me...\n",
       "                                                                                                                                                                                                             ...                                                                                                                                                                                                       \n",
       "9992    I’ve been fasting since the end of July and good about catching myself about to mindlessly put something in my mouth (I have two small kids so breaking myself from the habit of eating their leftovers has been the hardest!)  But today my hands were faster than my lizard brain, licked the Christmas cookie dough beaters before I could even process it—whoops!\\n\\nBe careful out there (and don’t be ...\n",
       "9993    38F 5ft 0in. SW126 CW116 GW106. \\n\\nStarted this adventure back in October to lose 3 pregnancies worth of weight. Was steadily loosing about 1 lb per week for the first 10 weeks and was super psyched to get to the -10lbs milestone. \\n\\nUnfortunately since the start of December I’ve been stuck around 116/117 with no obvious explanation. I don’t count calories but I keep to a 4-6 hour eating win...\n",
       "9995                                                        So I work in an office where it's just me and my boss. I usually wait until about 1-2pm to eat lunch and it's difficult to push it any longer than that due to client meetings/the peer pressure to take a lunch break. I've got 3 weeks off work now so I'm going to try and push my eating to 3, 4, 5ish pm and try for OMAD. \\n\\nAnyone else doing same?\n",
       "9996    I have a lot of weight to lose and have decided to give 16:8 a serious try. I’m about to go away for 2 weeks, so it makes sense to start when I get back. In the meantime, I’m trying to learn and get myself in the right mindset. \\n\\nSome people clearly find apps helpful. I don’t need an app to tell me when my 8 hours stop and start. What do apps do that you find useful and which one is your fav...\n",
       "9999    Im a 21yr old male 5’10” cw 252 &amp; gw is 190 I decided to do the 16:8 because I always skip breakfast anyways and usually eat around 12:00 where my problem previously came in was the soda and late night snacks.\\n\\nI completed my first fast yesterday it ended up being a 17hr fast with nothing besides water\\n\\nBasically I have a few questions \\n• will I have to worry about loose skin?\\n• what...\n",
       "Name: selftext, Length: 4688, dtype: object"
      ]
     },
     "execution_count": 8,
     "metadata": {},
     "output_type": "execute_result"
    }
   ],
   "source": [
    "df[df['text_length']>100]['selftext']"
   ]
  },
  {
   "cell_type": "code",
   "execution_count": 9,
   "id": "8cf22030-d536-4a58-8a05-b997b19b5543",
   "metadata": {},
   "outputs": [
    {
     "data": {
      "text/html": [
       "<div>\n",
       "<style scoped>\n",
       "    .dataframe tbody tr th:only-of-type {\n",
       "        vertical-align: middle;\n",
       "    }\n",
       "\n",
       "    .dataframe tbody tr th {\n",
       "        vertical-align: top;\n",
       "    }\n",
       "\n",
       "    .dataframe thead th {\n",
       "        text-align: right;\n",
       "    }\n",
       "</style>\n",
       "<table border=\"1\" class=\"dataframe\">\n",
       "  <thead>\n",
       "    <tr style=\"text-align: right;\">\n",
       "      <th></th>\n",
       "      <th>title</th>\n",
       "      <th>selftext</th>\n",
       "      <th>subreddit</th>\n",
       "      <th>created_utc</th>\n",
       "    </tr>\n",
       "  </thead>\n",
       "  <tbody>\n",
       "    <tr>\n",
       "      <th>0</th>\n",
       "      <td>Plateau sruggles</td>\n",
       "      <td>I (27F) have been intermittent fasting for about 2 months. My starting weight was about 145lbs. The first week I did 14:8 and I lost 5 lbs. I didn't change any other habits. I hit a plateau partway through the 2nd week. I've been stuck around 135 lbs. I increased my IF to 18:6 and amped up my workout plan by adding longer, more intense cardio sessions and mixing in some strength training. It's...</td>\n",
       "      <td>intermittentfasting</td>\n",
       "      <td>1625589667</td>\n",
       "    </tr>\n",
       "    <tr>\n",
       "      <th>4</th>\n",
       "      <td>Can I still do IF/OMAD now that I started exercising intensely?</td>\n",
       "      <td>I started lifting 4x/week (about 40 minutes), as well as taking a lot of martial arts classes. On monday for example I had nearly 3 hours of exercising in total (2 MA + lift).\\n\\nI've only just started, and so far I've been sticking to my IF/OMAD routine where I skip breakfast and only eat lunch. Which means I was on a long fast for some of those exercises. And I still felt fine.\\n\\nSo my ques...</td>\n",
       "      <td>intermittentfasting</td>\n",
       "      <td>1625586042</td>\n",
       "    </tr>\n",
       "    <tr>\n",
       "      <th>5</th>\n",
       "      <td>A new mindset</td>\n",
       "      <td>Hello everyone,\\n\\n  I am a mostly lurker here in reddit. First I'd like to say that I started my IF journey almost a year ago, and saw incredible results, It is the first time I am able to, without external influence (ie. injury, diet imposition by SO, etc.) to lose weight in a consistent fashion.\\n\\n  Ok, on to the topic. I saw a fat person waking by and surprised myself by thinking somethin...</td>\n",
       "      <td>intermittentfasting</td>\n",
       "      <td>1625584307</td>\n",
       "    </tr>\n",
       "    <tr>\n",
       "      <th>6</th>\n",
       "      <td>Weekend habits are making it difficult to loose weight.</td>\n",
       "      <td>Hi everyone,\\n\\nI have been doing IF (16:8) for almost 3 years. I have remained consistent in terms of weight (138-141lbs) in these 3 years. I am 5' 5.5\". Recently I started 20:4 to push my metabolism a little. I lost my weight from 141-140 in about a week ish. I have strated  to eat low-carb diet to help me with fasting. I am fairly good on the weekdays. However I want to enjoy my weekend and...</td>\n",
       "      <td>intermittentfasting</td>\n",
       "      <td>1625582039</td>\n",
       "    </tr>\n",
       "    <tr>\n",
       "      <th>7</th>\n",
       "      <td>Are these times acceptable for IF?</td>\n",
       "      <td>So, due to loss of employment, family has taken me in. Not to be a bother I am trying to use as little as I can before getting back on my feet. My brother makes lunch at 1 PM and the family eats together at 8 PM. So to my understanding of how Intermittent fasting works is, if I wake up at 9 AM, eat first meal at 1 PM and the second meal no longer than 8 hours after the first meal, this will me...</td>\n",
       "      <td>intermittentfasting</td>\n",
       "      <td>1625582007</td>\n",
       "    </tr>\n",
       "  </tbody>\n",
       "</table>\n",
       "</div>"
      ],
      "text/plain": [
       "                                                             title  \\\n",
       "0                                                 Plateau sruggles   \n",
       "4  Can I still do IF/OMAD now that I started exercising intensely?   \n",
       "5                                                    A new mindset   \n",
       "6          Weekend habits are making it difficult to loose weight.   \n",
       "7                               Are these times acceptable for IF?   \n",
       "\n",
       "                                                                                                                                                                                                                                                                                                                                                                                                          selftext  \\\n",
       "0  I (27F) have been intermittent fasting for about 2 months. My starting weight was about 145lbs. The first week I did 14:8 and I lost 5 lbs. I didn't change any other habits. I hit a plateau partway through the 2nd week. I've been stuck around 135 lbs. I increased my IF to 18:6 and amped up my workout plan by adding longer, more intense cardio sessions and mixing in some strength training. It's...   \n",
       "4  I started lifting 4x/week (about 40 minutes), as well as taking a lot of martial arts classes. On monday for example I had nearly 3 hours of exercising in total (2 MA + lift).\\n\\nI've only just started, and so far I've been sticking to my IF/OMAD routine where I skip breakfast and only eat lunch. Which means I was on a long fast for some of those exercises. And I still felt fine.\\n\\nSo my ques...   \n",
       "5  Hello everyone,\\n\\n  I am a mostly lurker here in reddit. First I'd like to say that I started my IF journey almost a year ago, and saw incredible results, It is the first time I am able to, without external influence (ie. injury, diet imposition by SO, etc.) to lose weight in a consistent fashion.\\n\\n  Ok, on to the topic. I saw a fat person waking by and surprised myself by thinking somethin...   \n",
       "6  Hi everyone,\\n\\nI have been doing IF (16:8) for almost 3 years. I have remained consistent in terms of weight (138-141lbs) in these 3 years. I am 5' 5.5\". Recently I started 20:4 to push my metabolism a little. I lost my weight from 141-140 in about a week ish. I have strated  to eat low-carb diet to help me with fasting. I am fairly good on the weekdays. However I want to enjoy my weekend and...   \n",
       "7  So, due to loss of employment, family has taken me in. Not to be a bother I am trying to use as little as I can before getting back on my feet. My brother makes lunch at 1 PM and the family eats together at 8 PM. So to my understanding of how Intermittent fasting works is, if I wake up at 9 AM, eat first meal at 1 PM and the second meal no longer than 8 hours after the first meal, this will me...   \n",
       "\n",
       "             subreddit  created_utc  \n",
       "0  intermittentfasting   1625589667  \n",
       "4  intermittentfasting   1625586042  \n",
       "5  intermittentfasting   1625584307  \n",
       "6  intermittentfasting   1625582039  \n",
       "7  intermittentfasting   1625582007  "
      ]
     },
     "metadata": {},
     "output_type": "display_data"
    }
   ],
   "source": [
    "# filter dataframe\n",
    "display(df.loc[(df['text_length']>100), ['title','selftext','subreddit','created_utc']].head())"
   ]
  },
  {
   "cell_type": "code",
   "execution_count": 10,
   "id": "28a51820-9700-4ec9-a40d-d648e86352f9",
   "metadata": {},
   "outputs": [],
   "source": [
    "fasting = df.loc[(df['text_length']>100), ['title','selftext','subreddit','created_utc']]"
   ]
  },
  {
   "cell_type": "code",
   "execution_count": 11,
   "id": "7d8f2ab1-4324-4955-b50f-a07b6baef9b6",
   "metadata": {},
   "outputs": [
    {
     "data": {
      "text/plain": [
       "title          0\n",
       "selftext       0\n",
       "subreddit      0\n",
       "created_utc    0\n",
       "dtype: int64"
      ]
     },
     "execution_count": 11,
     "metadata": {},
     "output_type": "execute_result"
    }
   ],
   "source": [
    "fasting.isnull().sum()"
   ]
  },
  {
   "cell_type": "code",
   "execution_count": 13,
   "id": "d84f562d-f83f-4472-8e98-10b1fcffdba5",
   "metadata": {},
   "outputs": [
    {
     "name": "stdout",
     "output_type": "stream",
     "text": [
      "Retrieved 10000 comments from Pushshift\n"
     ]
    }
   ],
   "source": [
    "comments_2 = api.search_submissions(subreddit='keto', limit=10000, after=1609459200)\n",
    "print(f'Retrieved {len(comments_2)} comments from Pushshift')"
   ]
  },
  {
   "cell_type": "code",
   "execution_count": 14,
   "id": "77179ffd-59ad-40fc-b120-78acc4bdb465",
   "metadata": {},
   "outputs": [
    {
     "data": {
      "text/html": [
       "<div>\n",
       "<style scoped>\n",
       "    .dataframe tbody tr th:only-of-type {\n",
       "        vertical-align: middle;\n",
       "    }\n",
       "\n",
       "    .dataframe tbody tr th {\n",
       "        vertical-align: top;\n",
       "    }\n",
       "\n",
       "    .dataframe thead th {\n",
       "        text-align: right;\n",
       "    }\n",
       "</style>\n",
       "<table border=\"1\" class=\"dataframe\">\n",
       "  <thead>\n",
       "    <tr style=\"text-align: right;\">\n",
       "      <th></th>\n",
       "      <th>all_awardings</th>\n",
       "      <th>allow_live_comments</th>\n",
       "      <th>author</th>\n",
       "      <th>author_flair_css_class</th>\n",
       "      <th>author_flair_richtext</th>\n",
       "      <th>author_flair_text</th>\n",
       "      <th>author_flair_type</th>\n",
       "      <th>author_fullname</th>\n",
       "      <th>author_patreon_flair</th>\n",
       "      <th>author_premium</th>\n",
       "      <th>...</th>\n",
       "      <th>url_overridden_by_dest</th>\n",
       "      <th>gilded</th>\n",
       "      <th>is_created_from_ads_ui</th>\n",
       "      <th>author_cakeday</th>\n",
       "      <th>author_is_blocked</th>\n",
       "      <th>poll_data</th>\n",
       "      <th>live_audio</th>\n",
       "      <th>thumbnail_height</th>\n",
       "      <th>thumbnail_width</th>\n",
       "      <th>distinguished</th>\n",
       "    </tr>\n",
       "  </thead>\n",
       "  <tbody>\n",
       "    <tr>\n",
       "      <th>0</th>\n",
       "      <td>[]</td>\n",
       "      <td>False</td>\n",
       "      <td>__scruffycat__</td>\n",
       "      <td>None</td>\n",
       "      <td>[]</td>\n",
       "      <td>None</td>\n",
       "      <td>text</td>\n",
       "      <td>t2_kjj28</td>\n",
       "      <td>False</td>\n",
       "      <td>False</td>\n",
       "      <td>...</td>\n",
       "      <td>NaN</td>\n",
       "      <td>NaN</td>\n",
       "      <td>NaN</td>\n",
       "      <td>NaN</td>\n",
       "      <td>NaN</td>\n",
       "      <td>NaN</td>\n",
       "      <td>NaN</td>\n",
       "      <td>NaN</td>\n",
       "      <td>NaN</td>\n",
       "      <td>NaN</td>\n",
       "    </tr>\n",
       "    <tr>\n",
       "      <th>1</th>\n",
       "      <td>[]</td>\n",
       "      <td>False</td>\n",
       "      <td>Smart-Refrigerator37</td>\n",
       "      <td>None</td>\n",
       "      <td>[]</td>\n",
       "      <td>None</td>\n",
       "      <td>text</td>\n",
       "      <td>t2_9kisv4ns</td>\n",
       "      <td>False</td>\n",
       "      <td>False</td>\n",
       "      <td>...</td>\n",
       "      <td>NaN</td>\n",
       "      <td>NaN</td>\n",
       "      <td>NaN</td>\n",
       "      <td>NaN</td>\n",
       "      <td>NaN</td>\n",
       "      <td>NaN</td>\n",
       "      <td>NaN</td>\n",
       "      <td>NaN</td>\n",
       "      <td>NaN</td>\n",
       "      <td>NaN</td>\n",
       "    </tr>\n",
       "    <tr>\n",
       "      <th>2</th>\n",
       "      <td>[]</td>\n",
       "      <td>False</td>\n",
       "      <td>[deleted]</td>\n",
       "      <td>None</td>\n",
       "      <td>NaN</td>\n",
       "      <td>None</td>\n",
       "      <td>NaN</td>\n",
       "      <td>NaN</td>\n",
       "      <td>NaN</td>\n",
       "      <td>NaN</td>\n",
       "      <td>...</td>\n",
       "      <td>NaN</td>\n",
       "      <td>NaN</td>\n",
       "      <td>NaN</td>\n",
       "      <td>NaN</td>\n",
       "      <td>NaN</td>\n",
       "      <td>NaN</td>\n",
       "      <td>NaN</td>\n",
       "      <td>NaN</td>\n",
       "      <td>NaN</td>\n",
       "      <td>NaN</td>\n",
       "    </tr>\n",
       "    <tr>\n",
       "      <th>3</th>\n",
       "      <td>[]</td>\n",
       "      <td>False</td>\n",
       "      <td>[deleted]</td>\n",
       "      <td>None</td>\n",
       "      <td>NaN</td>\n",
       "      <td>None</td>\n",
       "      <td>NaN</td>\n",
       "      <td>NaN</td>\n",
       "      <td>NaN</td>\n",
       "      <td>NaN</td>\n",
       "      <td>...</td>\n",
       "      <td>NaN</td>\n",
       "      <td>NaN</td>\n",
       "      <td>NaN</td>\n",
       "      <td>NaN</td>\n",
       "      <td>NaN</td>\n",
       "      <td>NaN</td>\n",
       "      <td>NaN</td>\n",
       "      <td>NaN</td>\n",
       "      <td>NaN</td>\n",
       "      <td>NaN</td>\n",
       "    </tr>\n",
       "    <tr>\n",
       "      <th>4</th>\n",
       "      <td>[]</td>\n",
       "      <td>False</td>\n",
       "      <td>iAm4uJL</td>\n",
       "      <td>None</td>\n",
       "      <td>[]</td>\n",
       "      <td>None</td>\n",
       "      <td>text</td>\n",
       "      <td>t2_9qxu0mc6</td>\n",
       "      <td>False</td>\n",
       "      <td>False</td>\n",
       "      <td>...</td>\n",
       "      <td>NaN</td>\n",
       "      <td>NaN</td>\n",
       "      <td>NaN</td>\n",
       "      <td>NaN</td>\n",
       "      <td>NaN</td>\n",
       "      <td>NaN</td>\n",
       "      <td>NaN</td>\n",
       "      <td>NaN</td>\n",
       "      <td>NaN</td>\n",
       "      <td>NaN</td>\n",
       "    </tr>\n",
       "  </tbody>\n",
       "</table>\n",
       "<p>5 rows × 80 columns</p>\n",
       "</div>"
      ],
      "text/plain": [
       "  all_awardings  allow_live_comments                author  \\\n",
       "0            []                False        __scruffycat__   \n",
       "1            []                False  Smart-Refrigerator37   \n",
       "2            []                False             [deleted]   \n",
       "3            []                False             [deleted]   \n",
       "4            []                False               iAm4uJL   \n",
       "\n",
       "  author_flair_css_class author_flair_richtext author_flair_text  \\\n",
       "0                   None                    []              None   \n",
       "1                   None                    []              None   \n",
       "2                   None                   NaN              None   \n",
       "3                   None                   NaN              None   \n",
       "4                   None                    []              None   \n",
       "\n",
       "  author_flair_type author_fullname author_patreon_flair author_premium  ...  \\\n",
       "0              text        t2_kjj28                False          False  ...   \n",
       "1              text     t2_9kisv4ns                False          False  ...   \n",
       "2               NaN             NaN                  NaN            NaN  ...   \n",
       "3               NaN             NaN                  NaN            NaN  ...   \n",
       "4              text     t2_9qxu0mc6                False          False  ...   \n",
       "\n",
       "  url_overridden_by_dest  gilded  is_created_from_ads_ui  author_cakeday  \\\n",
       "0                    NaN     NaN                     NaN             NaN   \n",
       "1                    NaN     NaN                     NaN             NaN   \n",
       "2                    NaN     NaN                     NaN             NaN   \n",
       "3                    NaN     NaN                     NaN             NaN   \n",
       "4                    NaN     NaN                     NaN             NaN   \n",
       "\n",
       "  author_is_blocked  poll_data live_audio thumbnail_height thumbnail_width  \\\n",
       "0               NaN        NaN        NaN              NaN             NaN   \n",
       "1               NaN        NaN        NaN              NaN             NaN   \n",
       "2               NaN        NaN        NaN              NaN             NaN   \n",
       "3               NaN        NaN        NaN              NaN             NaN   \n",
       "4               NaN        NaN        NaN              NaN             NaN   \n",
       "\n",
       "   distinguished  \n",
       "0            NaN  \n",
       "1            NaN  \n",
       "2            NaN  \n",
       "3            NaN  \n",
       "4            NaN  \n",
       "\n",
       "[5 rows x 80 columns]"
      ]
     },
     "execution_count": 14,
     "metadata": {},
     "output_type": "execute_result"
    }
   ],
   "source": [
    "df_2 = pd.DataFrame(comments_2)\n",
    "# preview the comments data\n",
    "df_2.head()"
   ]
  },
  {
   "cell_type": "code",
   "execution_count": 15,
   "id": "3b6f182e-b336-49a8-aeda-b7a61aa236a0",
   "metadata": {},
   "outputs": [
    {
     "data": {
      "text/plain": [
       "0    247.0\n",
       "1    358.0\n",
       "2      NaN\n",
       "3      9.0\n",
       "4      9.0\n",
       "Name: text_length, dtype: float64"
      ]
     },
     "execution_count": 15,
     "metadata": {},
     "output_type": "execute_result"
    }
   ],
   "source": [
    "df_2['text_length'] = df_2['selftext'].str.len()\n",
    "df_2['text_length'].head()"
   ]
  },
  {
   "cell_type": "code",
   "execution_count": 16,
   "id": "46035aa4-bc9a-43a3-8fd2-bb09fe616404",
   "metadata": {},
   "outputs": [
    {
     "data": {
      "text/plain": [
       "True     5602\n",
       "False    4398\n",
       "Name: text_length, dtype: int64"
      ]
     },
     "execution_count": 16,
     "metadata": {},
     "output_type": "execute_result"
    }
   ],
   "source": [
    "(df_2['text_length']>100).value_counts()"
   ]
  },
  {
   "cell_type": "code",
   "execution_count": 17,
   "id": "73b101a7-b9b1-447f-81df-9485662f449e",
   "metadata": {
    "tags": []
   },
   "outputs": [
    {
     "data": {
      "text/plain": [
       "0                                                                                                                                                               I know that it conjunction with keto we need to be in a calorie deficit to actually lose weight. My question was when you calculate your macros, you can choose to go lower than the recommendation. Is there a better % of low in anyone’s experience.\n",
       "1                                            What your guys favorite keto-friendly noodles? I’m new to keto and looking to try some new things! There are just so many different brands / options, idk where to start. \\n\\nI love pasta (especially mac n cheese) and would love to find something to substitute the regular noodles.   \\n\\nAlso, feel free to share your favorite dish that you make with your noodles\n",
       "5                                                                                                                                                                                   The Act II butter lovers box says a cup popped is 3 carbs. The Cronometer app says it’s 3.4, and If I have 14 carbs left today, I could eat 2 cups for 6.7. Is there something wrong with this, or am I in luck as a popcorn lover?\n",
       "7       When I was in my early teens I gained an extreme amount of weight, and had an extremely fat face, and only recently I have dropped back down to 145lbs. I am a 5 9 male and I think this is extremely skinny for my height, but my face is still extremely fat around my cheeks. I’ve been extremely depressed lately and I don’t even want to go out or speak to people and I feel like this is not who I a...\n",
       "8       Gosh please never do that to yourself. Don't buy goal clothes. Goal clothes are so passive aggressive to yourself.\\n\\nBUT, I did. I did this to myself seven times no less. Goal shirts from concerts. Many Pokemon themed goal shirts for some reason lol. I have a too small shirt that I bought five years ago, because I was \"losing weight\". I know because it is a 20th anniversary Pokemon shirt, and...\n",
       "                                                                                                                                                                                                             ...                                                                                                                                                                                                       \n",
       "9989    Looking for support and tips, your favorite recipes, and how you stay motivated. \\n\\nI’m about to hit my one year keto milestone and my migraines are so much better. It has been a life saver. But it’s hard. So hard every day. I miss chocolate, cookies and just picking off the menu at random what sounds good. \\n\\nI can’t do the substitutes due to migraine triggers and I know other migraine suff...\n",
       "9992    Went to the doc and she was very impressed\\n3 weeks keto\\n181 to 167\\n\\nT2D went from 5.4 A1C to 4.9 (yes I take meds on top and measure BS and Ketones)\\n\\nEveryone's goal is usually blood sugar and weight loss but I have a bigger fear that might be rearing it's ugly head and labs are proving it. My family seems to have this INHERITED cardiac issue Idk what you'd call it. Granted they've all l...\n",
       "9993                                                                                                                                                                                        I want to have only carbs in breakfast and in very little amounts in lunch and dinner which will be mostly fat.\\n\\nbut will this hinder the fat adaptation and burning as carbs are being had as the first meal of the day.\n",
       "9994    Hi everyone! Keto newbie here, started today and loving this group. \\n\\nHowever, I’ve bought all the food needed to make some really good recipes I’ve found, but I’m worried I won’t be creating a calorie deficit? All the meals that will fill me up must have loads of calories, I can’t see how I will lose weight without constantly feeling hungry?\\n\\nDoes anyone still count calories in this group...\n",
       "9996                              Does anyone on here track their total carbs versus net carbs?  I only ask because I am starting to see a plateau and I am wondering if it’s because I am actually eating too many total carbs. If you do track total carbs and have seen continued success, how many do you allot yourself each day?  Is 50 too many?  Should I aim for 30?  Any advice is appreciated!  Thank you :)\n",
       "Name: selftext, Length: 5602, dtype: object"
      ]
     },
     "execution_count": 17,
     "metadata": {},
     "output_type": "execute_result"
    }
   ],
   "source": [
    "df_2[df_2['text_length']>100]['selftext']"
   ]
  },
  {
   "cell_type": "code",
   "execution_count": 18,
   "id": "1f0593ab-e564-4cdf-bad0-b9c5d5a8c14b",
   "metadata": {},
   "outputs": [
    {
     "data": {
      "text/html": [
       "<div>\n",
       "<style scoped>\n",
       "    .dataframe tbody tr th:only-of-type {\n",
       "        vertical-align: middle;\n",
       "    }\n",
       "\n",
       "    .dataframe tbody tr th {\n",
       "        vertical-align: top;\n",
       "    }\n",
       "\n",
       "    .dataframe thead th {\n",
       "        text-align: right;\n",
       "    }\n",
       "</style>\n",
       "<table border=\"1\" class=\"dataframe\">\n",
       "  <thead>\n",
       "    <tr style=\"text-align: right;\">\n",
       "      <th></th>\n",
       "      <th>title</th>\n",
       "      <th>selftext</th>\n",
       "      <th>subreddit</th>\n",
       "      <th>created_utc</th>\n",
       "    </tr>\n",
       "  </thead>\n",
       "  <tbody>\n",
       "    <tr>\n",
       "      <th>0</th>\n",
       "      <td>Deficit calories - how much is recommended</td>\n",
       "      <td>I know that it conjunction with keto we need to be in a calorie deficit to actually lose weight. My question was when you calculate your macros, you can choose to go lower than the recommendation. Is there a better % of low in anyone’s experience.</td>\n",
       "      <td>keto</td>\n",
       "      <td>1614835856</td>\n",
       "    </tr>\n",
       "    <tr>\n",
       "      <th>1</th>\n",
       "      <td>Share your favorite Keto-Friendly noodles/pasta!</td>\n",
       "      <td>What your guys favorite keto-friendly noodles? I’m new to keto and looking to try some new things! There are just so many different brands / options, idk where to start. \\n\\nI love pasta (especially mac n cheese) and would love to find something to substitute the regular noodles.   \\n\\nAlso, feel free to share your favorite dish that you make with your noodles</td>\n",
       "      <td>keto</td>\n",
       "      <td>1614834758</td>\n",
       "    </tr>\n",
       "    <tr>\n",
       "      <th>5</th>\n",
       "      <td>Is there anything wrong with having popcorn?</td>\n",
       "      <td>The Act II butter lovers box says a cup popped is 3 carbs. The Cronometer app says it’s 3.4, and If I have 14 carbs left today, I could eat 2 cups for 6.7. Is there something wrong with this, or am I in luck as a popcorn lover?</td>\n",
       "      <td>keto</td>\n",
       "      <td>1614832038</td>\n",
       "    </tr>\n",
       "    <tr>\n",
       "      <th>7</th>\n",
       "      <td>Having a horrible face fat issue</td>\n",
       "      <td>When I was in my early teens I gained an extreme amount of weight, and had an extremely fat face, and only recently I have dropped back down to 145lbs. I am a 5 9 male and I think this is extremely skinny for my height, but my face is still extremely fat around my cheeks. I’ve been extremely depressed lately and I don’t even want to go out or speak to people and I feel like this is not who I a...</td>\n",
       "      <td>keto</td>\n",
       "      <td>1614830826</td>\n",
       "    </tr>\n",
       "    <tr>\n",
       "      <th>8</th>\n",
       "      <td>NSV I fit into my \"goal clothes\"</td>\n",
       "      <td>Gosh please never do that to yourself. Don't buy goal clothes. Goal clothes are so passive aggressive to yourself.\\n\\nBUT, I did. I did this to myself seven times no less. Goal shirts from concerts. Many Pokemon themed goal shirts for some reason lol. I have a too small shirt that I bought five years ago, because I was \"losing weight\". I know because it is a 20th anniversary Pokemon shirt, and...</td>\n",
       "      <td>keto</td>\n",
       "      <td>1614829213</td>\n",
       "    </tr>\n",
       "  </tbody>\n",
       "</table>\n",
       "</div>"
      ],
      "text/plain": [
       "                                              title  \\\n",
       "0        Deficit calories - how much is recommended   \n",
       "1  Share your favorite Keto-Friendly noodles/pasta!   \n",
       "5      Is there anything wrong with having popcorn?   \n",
       "7                  Having a horrible face fat issue   \n",
       "8                  NSV I fit into my \"goal clothes\"   \n",
       "\n",
       "                                                                                                                                                                                                                                                                                                                                                                                                          selftext  \\\n",
       "0                                                                                                                                                          I know that it conjunction with keto we need to be in a calorie deficit to actually lose weight. My question was when you calculate your macros, you can choose to go lower than the recommendation. Is there a better % of low in anyone’s experience.   \n",
       "1                                       What your guys favorite keto-friendly noodles? I’m new to keto and looking to try some new things! There are just so many different brands / options, idk where to start. \\n\\nI love pasta (especially mac n cheese) and would love to find something to substitute the regular noodles.   \\n\\nAlso, feel free to share your favorite dish that you make with your noodles   \n",
       "5                                                                                                                                                                              The Act II butter lovers box says a cup popped is 3 carbs. The Cronometer app says it’s 3.4, and If I have 14 carbs left today, I could eat 2 cups for 6.7. Is there something wrong with this, or am I in luck as a popcorn lover?   \n",
       "7  When I was in my early teens I gained an extreme amount of weight, and had an extremely fat face, and only recently I have dropped back down to 145lbs. I am a 5 9 male and I think this is extremely skinny for my height, but my face is still extremely fat around my cheeks. I’ve been extremely depressed lately and I don’t even want to go out or speak to people and I feel like this is not who I a...   \n",
       "8  Gosh please never do that to yourself. Don't buy goal clothes. Goal clothes are so passive aggressive to yourself.\\n\\nBUT, I did. I did this to myself seven times no less. Goal shirts from concerts. Many Pokemon themed goal shirts for some reason lol. I have a too small shirt that I bought five years ago, because I was \"losing weight\". I know because it is a 20th anniversary Pokemon shirt, and...   \n",
       "\n",
       "  subreddit  created_utc  \n",
       "0      keto   1614835856  \n",
       "1      keto   1614834758  \n",
       "5      keto   1614832038  \n",
       "7      keto   1614830826  \n",
       "8      keto   1614829213  "
      ]
     },
     "metadata": {},
     "output_type": "display_data"
    }
   ],
   "source": [
    "# filter dataframe\n",
    "display(df_2.loc[(df_2['text_length']>100), ['title','selftext','subreddit','created_utc']].head())"
   ]
  },
  {
   "cell_type": "code",
   "execution_count": 19,
   "id": "9905fb5b-8fbc-4e69-a2cd-160eef384472",
   "metadata": {},
   "outputs": [],
   "source": [
    "keto = df_2.loc[(df_2['text_length']>100), ['title','selftext','subreddit','created_utc']]"
   ]
  },
  {
   "cell_type": "code",
   "execution_count": 20,
   "id": "8335eabd-8111-4506-b658-6ed915c5e635",
   "metadata": {},
   "outputs": [
    {
     "data": {
      "text/plain": [
       "title          0\n",
       "selftext       0\n",
       "subreddit      0\n",
       "created_utc    0\n",
       "dtype: int64"
      ]
     },
     "execution_count": 20,
     "metadata": {},
     "output_type": "execute_result"
    }
   ],
   "source": [
    "keto.isnull().sum()"
   ]
  },
  {
   "cell_type": "code",
   "execution_count": 22,
   "id": "8ae45655-2c12-4045-8940-cd65aa0882c2",
   "metadata": {},
   "outputs": [],
   "source": [
    "df_posts = pd.concat([fasting, keto], axis=0)"
   ]
  },
  {
   "cell_type": "code",
   "execution_count": 23,
   "id": "02c8ae03-9825-4a63-9d5d-d5c436e1dcac",
   "metadata": {},
   "outputs": [
    {
     "data": {
      "text/html": [
       "<div>\n",
       "<style scoped>\n",
       "    .dataframe tbody tr th:only-of-type {\n",
       "        vertical-align: middle;\n",
       "    }\n",
       "\n",
       "    .dataframe tbody tr th {\n",
       "        vertical-align: top;\n",
       "    }\n",
       "\n",
       "    .dataframe thead th {\n",
       "        text-align: right;\n",
       "    }\n",
       "</style>\n",
       "<table border=\"1\" class=\"dataframe\">\n",
       "  <thead>\n",
       "    <tr style=\"text-align: right;\">\n",
       "      <th></th>\n",
       "      <th>title</th>\n",
       "      <th>selftext</th>\n",
       "      <th>subreddit</th>\n",
       "      <th>created_utc</th>\n",
       "    </tr>\n",
       "  </thead>\n",
       "  <tbody>\n",
       "    <tr>\n",
       "      <th>0</th>\n",
       "      <td>Plateau sruggles</td>\n",
       "      <td>I (27F) have been intermittent fasting for about 2 months. My starting weight was about 145lbs. The first week I did 14:8 and I lost 5 lbs. I didn't change any other habits. I hit a plateau partway through the 2nd week. I've been stuck around 135 lbs. I increased my IF to 18:6 and amped up my workout plan by adding longer, more intense cardio sessions and mixing in some strength training. It's...</td>\n",
       "      <td>intermittentfasting</td>\n",
       "      <td>1625589667</td>\n",
       "    </tr>\n",
       "    <tr>\n",
       "      <th>4</th>\n",
       "      <td>Can I still do IF/OMAD now that I started exercising intensely?</td>\n",
       "      <td>I started lifting 4x/week (about 40 minutes), as well as taking a lot of martial arts classes. On monday for example I had nearly 3 hours of exercising in total (2 MA + lift).\\n\\nI've only just started, and so far I've been sticking to my IF/OMAD routine where I skip breakfast and only eat lunch. Which means I was on a long fast for some of those exercises. And I still felt fine.\\n\\nSo my ques...</td>\n",
       "      <td>intermittentfasting</td>\n",
       "      <td>1625586042</td>\n",
       "    </tr>\n",
       "    <tr>\n",
       "      <th>5</th>\n",
       "      <td>A new mindset</td>\n",
       "      <td>Hello everyone,\\n\\n  I am a mostly lurker here in reddit. First I'd like to say that I started my IF journey almost a year ago, and saw incredible results, It is the first time I am able to, without external influence (ie. injury, diet imposition by SO, etc.) to lose weight in a consistent fashion.\\n\\n  Ok, on to the topic. I saw a fat person waking by and surprised myself by thinking somethin...</td>\n",
       "      <td>intermittentfasting</td>\n",
       "      <td>1625584307</td>\n",
       "    </tr>\n",
       "    <tr>\n",
       "      <th>6</th>\n",
       "      <td>Weekend habits are making it difficult to loose weight.</td>\n",
       "      <td>Hi everyone,\\n\\nI have been doing IF (16:8) for almost 3 years. I have remained consistent in terms of weight (138-141lbs) in these 3 years. I am 5' 5.5\". Recently I started 20:4 to push my metabolism a little. I lost my weight from 141-140 in about a week ish. I have strated  to eat low-carb diet to help me with fasting. I am fairly good on the weekdays. However I want to enjoy my weekend and...</td>\n",
       "      <td>intermittentfasting</td>\n",
       "      <td>1625582039</td>\n",
       "    </tr>\n",
       "    <tr>\n",
       "      <th>7</th>\n",
       "      <td>Are these times acceptable for IF?</td>\n",
       "      <td>So, due to loss of employment, family has taken me in. Not to be a bother I am trying to use as little as I can before getting back on my feet. My brother makes lunch at 1 PM and the family eats together at 8 PM. So to my understanding of how Intermittent fasting works is, if I wake up at 9 AM, eat first meal at 1 PM and the second meal no longer than 8 hours after the first meal, this will me...</td>\n",
       "      <td>intermittentfasting</td>\n",
       "      <td>1625582007</td>\n",
       "    </tr>\n",
       "  </tbody>\n",
       "</table>\n",
       "</div>"
      ],
      "text/plain": [
       "                                                             title  \\\n",
       "0                                                 Plateau sruggles   \n",
       "4  Can I still do IF/OMAD now that I started exercising intensely?   \n",
       "5                                                    A new mindset   \n",
       "6          Weekend habits are making it difficult to loose weight.   \n",
       "7                               Are these times acceptable for IF?   \n",
       "\n",
       "                                                                                                                                                                                                                                                                                                                                                                                                          selftext  \\\n",
       "0  I (27F) have been intermittent fasting for about 2 months. My starting weight was about 145lbs. The first week I did 14:8 and I lost 5 lbs. I didn't change any other habits. I hit a plateau partway through the 2nd week. I've been stuck around 135 lbs. I increased my IF to 18:6 and amped up my workout plan by adding longer, more intense cardio sessions and mixing in some strength training. It's...   \n",
       "4  I started lifting 4x/week (about 40 minutes), as well as taking a lot of martial arts classes. On monday for example I had nearly 3 hours of exercising in total (2 MA + lift).\\n\\nI've only just started, and so far I've been sticking to my IF/OMAD routine where I skip breakfast and only eat lunch. Which means I was on a long fast for some of those exercises. And I still felt fine.\\n\\nSo my ques...   \n",
       "5  Hello everyone,\\n\\n  I am a mostly lurker here in reddit. First I'd like to say that I started my IF journey almost a year ago, and saw incredible results, It is the first time I am able to, without external influence (ie. injury, diet imposition by SO, etc.) to lose weight in a consistent fashion.\\n\\n  Ok, on to the topic. I saw a fat person waking by and surprised myself by thinking somethin...   \n",
       "6  Hi everyone,\\n\\nI have been doing IF (16:8) for almost 3 years. I have remained consistent in terms of weight (138-141lbs) in these 3 years. I am 5' 5.5\". Recently I started 20:4 to push my metabolism a little. I lost my weight from 141-140 in about a week ish. I have strated  to eat low-carb diet to help me with fasting. I am fairly good on the weekdays. However I want to enjoy my weekend and...   \n",
       "7  So, due to loss of employment, family has taken me in. Not to be a bother I am trying to use as little as I can before getting back on my feet. My brother makes lunch at 1 PM and the family eats together at 8 PM. So to my understanding of how Intermittent fasting works is, if I wake up at 9 AM, eat first meal at 1 PM and the second meal no longer than 8 hours after the first meal, this will me...   \n",
       "\n",
       "             subreddit  created_utc  \n",
       "0  intermittentfasting   1625589667  \n",
       "4  intermittentfasting   1625586042  \n",
       "5  intermittentfasting   1625584307  \n",
       "6  intermittentfasting   1625582039  \n",
       "7  intermittentfasting   1625582007  "
      ]
     },
     "execution_count": 23,
     "metadata": {},
     "output_type": "execute_result"
    }
   ],
   "source": [
    "df_posts.head()"
   ]
  },
  {
   "cell_type": "code",
   "execution_count": 24,
   "id": "774af6b8-1fb2-4082-9378-4854eff31c91",
   "metadata": {},
   "outputs": [
    {
     "data": {
      "text/plain": [
       "(10290, 4)"
      ]
     },
     "execution_count": 24,
     "metadata": {},
     "output_type": "execute_result"
    }
   ],
   "source": [
    "df_posts.shape"
   ]
  },
  {
   "cell_type": "code",
   "execution_count": 25,
   "id": "51a6bfe6-a5a6-4dd3-a405-b6807105c6cf",
   "metadata": {},
   "outputs": [
    {
     "data": {
      "text/plain": [
       "title          0\n",
       "selftext       0\n",
       "subreddit      0\n",
       "created_utc    0\n",
       "dtype: int64"
      ]
     },
     "execution_count": 25,
     "metadata": {},
     "output_type": "execute_result"
    }
   ],
   "source": [
    "df_posts.isnull().sum()"
   ]
  },
  {
   "cell_type": "code",
   "execution_count": 26,
   "id": "1a29dc70-9fb5-4fb3-8aab-3f22ddc03d91",
   "metadata": {},
   "outputs": [
    {
     "data": {
      "text/plain": [
       "keto                   5602\n",
       "intermittentfasting    4688\n",
       "Name: subreddit, dtype: int64"
      ]
     },
     "execution_count": 26,
     "metadata": {},
     "output_type": "execute_result"
    }
   ],
   "source": [
    "df_posts['subreddit'].value_counts()"
   ]
  },
  {
   "cell_type": "code",
   "execution_count": 27,
   "id": "dc548d43-8c4f-469c-87ae-c5e9024c190f",
   "metadata": {},
   "outputs": [],
   "source": [
    "df_posts.to_csv('./data/subreddit_data.csv')"
   ]
  },
  {
   "cell_type": "markdown",
   "id": "826f9a08-1b74-44af-8d90-f3dd72f42a3e",
   "metadata": {},
   "source": [
    "We managed to extract total of 10290 posts which consist of 5602 posts from keto subreddit and 4688 posts from intermittent fasting subreddit. Out of 80 columns, we export 4 columns -- 'title','selftext','subreddit','created_utc' for our further EDA and text processing in Part 2."
   ]
  }
 ],
 "metadata": {
  "kernelspec": {
   "display_name": "Python 3 (ipykernel)",
   "language": "python",
   "name": "python3"
  },
  "language_info": {
   "codemirror_mode": {
    "name": "ipython",
    "version": 3
   },
   "file_extension": ".py",
   "mimetype": "text/x-python",
   "name": "python",
   "nbconvert_exporter": "python",
   "pygments_lexer": "ipython3",
   "version": "3.9.12"
  }
 },
 "nbformat": 4,
 "nbformat_minor": 5
}
