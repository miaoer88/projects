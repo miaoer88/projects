{
 "cells": [
  {
   "cell_type": "markdown",
   "id": "701f380a-3508-40c7-97d8-60c3d54b4f05",
   "metadata": {},
   "source": [
    "<img src=\"http://imgur.com/1ZcRyrc.png\" style=\"float: left; margin: 20px; height: 55px\">\n",
    "\n",
    "# Project 3: NPL on Intermittent Fasting and Keto Diet\n",
    "\n",
    "---"
   ]
  },
  {
   "cell_type": "markdown",
   "id": "fe0478b0-a8f6-4052-bb72-28d2f96e6e52",
   "metadata": {},
   "source": [
    "# Part 3"
   ]
  },
  {
   "cell_type": "code",
   "execution_count": 1,
   "id": "830babb7-b153-4e01-aa3e-b3028668070a",
   "metadata": {},
   "outputs": [],
   "source": [
    "# Import libaries\n",
    "import matplotlib.pyplot as plt\n",
    "import pandas as pd\n",
    "import seaborn as sns\n",
    "import numpy as np\n",
    "\n",
    "from sklearn.feature_extraction.text import CountVectorizer, TfidfVectorizer\n",
    "from nltk.stem import WordNetLemmatizer\n",
    "from nltk.stem.porter import PorterStemmer\n",
    "from nltk.corpus import stopwords\n",
    "from sklearn.pipeline import Pipeline\n",
    "from sklearn.ensemble import GradientBoostingClassifier, AdaBoostClassifier, VotingClassifier\n",
    "from sklearn.model_selection import train_test_split, GridSearchCV\n",
    "from sklearn.ensemble import RandomForestClassifier, ExtraTreesClassifier\n",
    "from sklearn.preprocessing import StandardScaler\n",
    "from sklearn.neighbors import KNeighborsClassifier\n",
    "from sklearn.naive_bayes import MultinomialNB\n",
    "from sklearn.linear_model import LogisticRegression\n",
    "from sklearn.metrics import confusion_matrix, plot_confusion_matrix, classification_report, ConfusionMatrixDisplay, f1_score\n",
    "\n",
    "import warnings\n",
    "warnings.simplefilter(\"ignore\")"
   ]
  },
  {
   "cell_type": "code",
   "execution_count": 2,
   "id": "0923955d-6fb3-405e-821a-4ced2def7ac8",
   "metadata": {},
   "outputs": [],
   "source": [
    "# We are dealing with large data sets, so setting max number of column and row displays to be unlimited\n",
    "pd.set_option('display.max_columns', None)\n",
    "pd.set_option('display.max_rows', None)"
   ]
  },
  {
   "cell_type": "code",
   "execution_count": 3,
   "id": "868b23e8-5d25-43d2-a7f0-fd29849bf3f4",
   "metadata": {},
   "outputs": [],
   "source": [
    "# Reading in the cleaned data\n",
    "df = pd.read_csv('data/subreddit_stem_cleaned.csv')"
   ]
  },
  {
   "cell_type": "code",
   "execution_count": 4,
   "id": "56ad77fe-b8e8-48fc-9101-5e8f119e35cb",
   "metadata": {},
   "outputs": [
    {
     "data": {
      "text/html": [
       "<div>\n",
       "<style scoped>\n",
       "    .dataframe tbody tr th:only-of-type {\n",
       "        vertical-align: middle;\n",
       "    }\n",
       "\n",
       "    .dataframe tbody tr th {\n",
       "        vertical-align: top;\n",
       "    }\n",
       "\n",
       "    .dataframe thead th {\n",
       "        text-align: right;\n",
       "    }\n",
       "</style>\n",
       "<table border=\"1\" class=\"dataframe\">\n",
       "  <thead>\n",
       "    <tr style=\"text-align: right;\">\n",
       "      <th></th>\n",
       "      <th>title</th>\n",
       "      <th>selftext</th>\n",
       "      <th>subreddit</th>\n",
       "      <th>created_utc</th>\n",
       "      <th>post_word_count</th>\n",
       "      <th>post_length</th>\n",
       "      <th>cleantext_stem</th>\n",
       "    </tr>\n",
       "  </thead>\n",
       "  <tbody>\n",
       "    <tr>\n",
       "      <th>0</th>\n",
       "      <td>Plateau sruggles</td>\n",
       "      <td>I (27F) have been intermittent fasting for abo...</td>\n",
       "      <td>0</td>\n",
       "      <td>1625589667</td>\n",
       "      <td>123</td>\n",
       "      <td>660</td>\n",
       "      <td>27f intermitt fast 2 month start weight 145lb ...</td>\n",
       "    </tr>\n",
       "    <tr>\n",
       "      <th>1</th>\n",
       "      <td>Can I still do IF/OMAD now that I started exer...</td>\n",
       "      <td>I started lifting 4x/week (about 40 minutes), ...</td>\n",
       "      <td>0</td>\n",
       "      <td>1625586042</td>\n",
       "      <td>127</td>\n",
       "      <td>679</td>\n",
       "      <td>start lift 4xweek 40 minut well take lot marti...</td>\n",
       "    </tr>\n",
       "    <tr>\n",
       "      <th>2</th>\n",
       "      <td>A new mindset</td>\n",
       "      <td>Hello everyone,\\n\\n  I am a mostly lurker here...</td>\n",
       "      <td>0</td>\n",
       "      <td>1625584307</td>\n",
       "      <td>182</td>\n",
       "      <td>929</td>\n",
       "      <td>hello everyon mostli lurker reddit first id li...</td>\n",
       "    </tr>\n",
       "    <tr>\n",
       "      <th>3</th>\n",
       "      <td>Weekend habits are making it difficult to loos...</td>\n",
       "      <td>Hi everyone,\\n\\nI have been doing IF (16:8) fo...</td>\n",
       "      <td>0</td>\n",
       "      <td>1625582039</td>\n",
       "      <td>110</td>\n",
       "      <td>569</td>\n",
       "      <td>hi everyon 168 almost 3 year remain consist te...</td>\n",
       "    </tr>\n",
       "    <tr>\n",
       "      <th>4</th>\n",
       "      <td>Are these times acceptable for IF?</td>\n",
       "      <td>So, due to loss of employment, family has take...</td>\n",
       "      <td>0</td>\n",
       "      <td>1625582007</td>\n",
       "      <td>167</td>\n",
       "      <td>806</td>\n",
       "      <td>due loss employ famili taken bother tri use li...</td>\n",
       "    </tr>\n",
       "  </tbody>\n",
       "</table>\n",
       "</div>"
      ],
      "text/plain": [
       "                                               title  \\\n",
       "0                                   Plateau sruggles   \n",
       "1  Can I still do IF/OMAD now that I started exer...   \n",
       "2                                      A new mindset   \n",
       "3  Weekend habits are making it difficult to loos...   \n",
       "4                 Are these times acceptable for IF?   \n",
       "\n",
       "                                            selftext  subreddit  created_utc  \\\n",
       "0  I (27F) have been intermittent fasting for abo...          0   1625589667   \n",
       "1  I started lifting 4x/week (about 40 minutes), ...          0   1625586042   \n",
       "2  Hello everyone,\\n\\n  I am a mostly lurker here...          0   1625584307   \n",
       "3  Hi everyone,\\n\\nI have been doing IF (16:8) fo...          0   1625582039   \n",
       "4  So, due to loss of employment, family has take...          0   1625582007   \n",
       "\n",
       "   post_word_count  post_length  \\\n",
       "0              123          660   \n",
       "1              127          679   \n",
       "2              182          929   \n",
       "3              110          569   \n",
       "4              167          806   \n",
       "\n",
       "                                      cleantext_stem  \n",
       "0  27f intermitt fast 2 month start weight 145lb ...  \n",
       "1  start lift 4xweek 40 minut well take lot marti...  \n",
       "2  hello everyon mostli lurker reddit first id li...  \n",
       "3  hi everyon 168 almost 3 year remain consist te...  \n",
       "4  due loss employ famili taken bother tri use li...  "
      ]
     },
     "execution_count": 4,
     "metadata": {},
     "output_type": "execute_result"
    }
   ],
   "source": [
    "df.head()"
   ]
  },
  {
   "cell_type": "markdown",
   "id": "d34ee527-347a-477f-bab4-4ab61b007dd3",
   "metadata": {},
   "source": [
    "## Baseline Model"
   ]
  },
  {
   "cell_type": "code",
   "execution_count": 5,
   "id": "44701b85-2ad8-490d-b6ec-6c0c5cec9bc1",
   "metadata": {},
   "outputs": [
    {
     "data": {
      "text/plain": [
       "1    0.544412\n",
       "0    0.455588\n",
       "Name: subreddit, dtype: float64"
      ]
     },
     "execution_count": 5,
     "metadata": {},
     "output_type": "execute_result"
    }
   ],
   "source": [
    "df['subreddit'].value_counts(normalize = True)"
   ]
  },
  {
   "cell_type": "markdown",
   "id": "42b5f0bf-d13e-405c-a2a7-7a55f610d6fd",
   "metadata": {},
   "source": [
    "Given that we have quite balanced data between both classes, our baseline model accuracy is the probability from our majority subreddit -- Keto diet. Our baseline accuracy is 54.4%. Hopefully we can models that score better than this score during our modeling."
   ]
  },
  {
   "cell_type": "markdown",
   "id": "6a919348-feab-4825-b485-274c95c132fd",
   "metadata": {},
   "source": [
    "## Modeling"
   ]
  },
  {
   "cell_type": "code",
   "execution_count": 6,
   "id": "e6938e14-200e-421b-ac20-ce1a6e2ceb4e",
   "metadata": {},
   "outputs": [],
   "source": [
    "X = df['cleantext_stem']\n",
    "y = df['subreddit']\n",
    "\n",
    "X_train, X_test, y_train, y_test = train_test_split(X, y, random_state = 42, stratify = y)"
   ]
  },
  {
   "cell_type": "code",
   "execution_count": 7,
   "id": "406bc50b-ee2f-462c-af68-991f060987a3",
   "metadata": {},
   "outputs": [
    {
     "name": "stdout",
     "output_type": "stream",
     "text": [
      "(7717,)\n",
      "(2573,)\n"
     ]
    }
   ],
   "source": [
    "print(y_train.shape)\n",
    "print(y_test.shape)"
   ]
  },
  {
   "cell_type": "code",
   "execution_count": 8,
   "id": "533de4ab-f12a-469d-afb1-fd8433f07f5b",
   "metadata": {},
   "outputs": [],
   "source": [
    "# Vectorizer parameters:\n",
    "tvec_params = {\n",
    "    'tvec__max_features': [None, 5_000],\n",
    "    'tvec__max_df': [0.5, 0.9],\n",
    "    'tvec__ngram_range':[(1,1), (1,2)]\n",
    "}\n",
    "\n",
    "cvec_params = {\n",
    "    'cvec__max_features': [None, 5_000],\n",
    "    'cvec__max_df': [0.5, 0.9],\n",
    "    'cvec__ngram_range':[(1,1), (1,2)],\n",
    "}"
   ]
  },
  {
   "cell_type": "code",
   "execution_count": 9,
   "id": "e3e0f6a1-a16f-402e-b6b2-2a3e88cf1999",
   "metadata": {},
   "outputs": [],
   "source": [
    "def model(vec_inst, vectorizer, mod_inst, model, vec_params):\n",
    "    pipe = Pipeline([\n",
    "        (vec_inst, vectorizer),\n",
    "        (mod_inst, model)])\n",
    "    \n",
    "    gs = GridSearchCV(pipe, param_grid = {**vec_params})\n",
    "    gs.fit(X_train, y_train)\n",
    "    \n",
    "    print('*'*80)\n",
    "    print(f'MODEL = {model}, VECTORIZER = {vectorizer}')\n",
    "    print('*'*80)\n",
    "    print(f'Best fitting parameters: {gs.best_params_}\\n')\n",
    "    print(f'Best score: {round(gs.best_score_, 3)}')\n",
    "    print(f'Test score: {round(gs.score(X_test, y_test), 3)}\\n')\n",
    "    \n",
    "    # Get predictions\n",
    "    preds = gs.predict(X_test)\n",
    "    \n",
    "    print('Classification report:')\n",
    "    print(classification_report(y_test, preds))\n",
    "    \n",
    "    tn, fp, fn, tp = confusion_matrix(y_test, preds).ravel()\n",
    "    plot_confusion_matrix(gs, X_test, y_test, values_format='d');\n",
    "    \n",
    "    # Save best model results to Dataframe\n",
    "    df = pd.DataFrame()\n",
    "    df['model_vec'] = [f'{mod_inst}_{vec_inst}']\n",
    "    df['best_params'] = [gs.best_params_]\n",
    "    df['train_score'] = gs.best_score_\n",
    "    df['test_score'] = gs.score(X_test, y_test)\n",
    "    df['sensitivity'] =  tp / (tp + fn)\n",
    "    df['specificity'] = tn / (tn + fp)\n",
    "    df['precision'] = tp / (tp + fp)\n",
    "    df['f1_score'] = f1_score(y_test, preds)\n",
    "    df['tn'] = tn\n",
    "    df['fp'] = fp\n",
    "    df['fn'] = fn\n",
    "    df['tp'] = tp\n",
    "    \n",
    "    return df"
   ]
  },
  {
   "cell_type": "code",
   "execution_count": 10,
   "id": "4587662d-4170-47bd-873d-0a62799bf716",
   "metadata": {},
   "outputs": [],
   "source": [
    "df_all = []"
   ]
  },
  {
   "cell_type": "code",
   "execution_count": 11,
   "id": "dec8b3b5-dc30-47a6-8393-fef0b7a01c45",
   "metadata": {},
   "outputs": [
    {
     "name": "stdout",
     "output_type": "stream",
     "text": [
      "********************************************************************************\n",
      "MODEL = LogisticRegression(), VECTORIZER = TfidfVectorizer()\n",
      "********************************************************************************\n",
      "Best fitting parameters: {'tvec__max_df': 0.5, 'tvec__max_features': 5000, 'tvec__ngram_range': (1, 2)}\n",
      "\n",
      "Best score: 0.909\n",
      "Test score: 0.902\n",
      "\n",
      "Classification report:\n",
      "              precision    recall  f1-score   support\n",
      "\n",
      "           0       0.89      0.89      0.89      1172\n",
      "           1       0.91      0.91      0.91      1401\n",
      "\n",
      "    accuracy                           0.90      2573\n",
      "   macro avg       0.90      0.90      0.90      2573\n",
      "weighted avg       0.90      0.90      0.90      2573\n",
      "\n"
     ]
    },
    {
     "data": {
      "image/png": "[encoded data removed]",
      "text/plain": [
       "<Figure size 432x288 with 2 Axes>"
      ]
     },
     "metadata": {
      "needs_background": "light"
     },
     "output_type": "display_data"
    }
   ],
   "source": [
    "lr_tvec = model('tvec', TfidfVectorizer(), 'lr', LogisticRegression(), tvec_params)\n",
    "lr_tvec.head().T\n",
    "\n",
    "df_all.append(lr_tvec)"
   ]
  },
  {
   "cell_type": "code",
   "execution_count": 12,
   "id": "b7d2fb9f-e110-4885-b955-5409ef797a4b",
   "metadata": {},
   "outputs": [
    {
     "name": "stdout",
     "output_type": "stream",
     "text": [
      "********************************************************************************\n",
      "MODEL = LogisticRegression(), VECTORIZER = CountVectorizer()\n",
      "********************************************************************************\n",
      "Best fitting parameters: {'cvec__max_df': 0.5, 'cvec__max_features': None, 'cvec__ngram_range': (1, 2)}\n",
      "\n",
      "Best score: 0.904\n",
      "Test score: 0.898\n",
      "\n",
      "Classification report:\n",
      "              precision    recall  f1-score   support\n",
      "\n",
      "           0       0.87      0.91      0.89      1172\n",
      "           1       0.92      0.89      0.90      1401\n",
      "\n",
      "    accuracy                           0.90      2573\n",
      "   macro avg       0.90      0.90      0.90      2573\n",
      "weighted avg       0.90      0.90      0.90      2573\n",
      "\n"
     ]
    },
    {
     "data": {
      "image/png": "[encoded data removed]",
      "text/plain": [
       "<Figure size 432x288 with 2 Axes>"
      ]
     },
     "metadata": {
      "needs_background": "light"
     },
     "output_type": "display_data"
    }
   ],
   "source": [
    "lr_cvec = model('cvec', CountVectorizer(), 'lr', LogisticRegression(), cvec_params)\n",
    "lr_cvec.head().T\n",
    "\n",
    "df_all.append(lr_cvec)"
   ]
  },
  {
   "cell_type": "code",
   "execution_count": 13,
   "id": "6e252934-b758-4928-b614-b71a95c3f3d4",
   "metadata": {},
   "outputs": [
    {
     "name": "stdout",
     "output_type": "stream",
     "text": [
      "********************************************************************************\n",
      "MODEL = KNeighborsClassifier(), VECTORIZER = TfidfVectorizer()\n",
      "********************************************************************************\n",
      "Best fitting parameters: {'tvec__max_df': 0.5, 'tvec__max_features': None, 'tvec__ngram_range': (1, 1)}\n",
      "\n",
      "Best score: 0.805\n",
      "Test score: 0.781\n",
      "\n",
      "Classification report:\n",
      "              precision    recall  f1-score   support\n",
      "\n",
      "           0       0.76      0.76      0.76      1172\n",
      "           1       0.80      0.80      0.80      1401\n",
      "\n",
      "    accuracy                           0.78      2573\n",
      "   macro avg       0.78      0.78      0.78      2573\n",
      "weighted avg       0.78      0.78      0.78      2573\n",
      "\n"
     ]
    },
    {
     "data": {
      "image/png": "[encoded data removed]",
      "text/plain": [
       "<Figure size 432x288 with 2 Axes>"
      ]
     },
     "metadata": {
      "needs_background": "light"
     },
     "output_type": "display_data"
    }
   ],
   "source": [
    "knn_tvec = model('tvec', TfidfVectorizer(), 'knn', KNeighborsClassifier(), tvec_params)\n",
    "knn_tvec.head().T\n",
    "\n",
    "df_all.append(knn_tvec)"
   ]
  },
  {
   "cell_type": "code",
   "execution_count": 14,
   "id": "d45e20a8-2592-4f06-bc39-b6e04cdfc9ab",
   "metadata": {},
   "outputs": [
    {
     "name": "stdout",
     "output_type": "stream",
     "text": [
      "********************************************************************************\n",
      "MODEL = KNeighborsClassifier(), VECTORIZER = CountVectorizer()\n",
      "********************************************************************************\n",
      "Best fitting parameters: {'cvec__max_df': 0.5, 'cvec__max_features': 5000, 'cvec__ngram_range': (1, 1)}\n",
      "\n",
      "Best score: 0.621\n",
      "Test score: 0.614\n",
      "\n",
      "Classification report:\n",
      "              precision    recall  f1-score   support\n",
      "\n",
      "           0       0.54      0.98      0.70      1172\n",
      "           1       0.95      0.31      0.46      1401\n",
      "\n",
      "    accuracy                           0.61      2573\n",
      "   macro avg       0.75      0.64      0.58      2573\n",
      "weighted avg       0.77      0.61      0.57      2573\n",
      "\n"
     ]
    },
    {
     "data": {
      "image/png": "[encoded data removed]",
      "text/plain": [
       "<Figure size 432x288 with 2 Axes>"
      ]
     },
     "metadata": {
      "needs_background": "light"
     },
     "output_type": "display_data"
    }
   ],
   "source": [
    "knn_cvec = model('cvec', CountVectorizer(), 'knn', KNeighborsClassifier(), cvec_params)\n",
    "knn_cvec.head().T\n",
    "\n",
    "df_all.append(knn_cvec)"
   ]
  },
  {
   "cell_type": "code",
   "execution_count": 15,
   "id": "bca1bac5-3c81-47e1-9dd3-4f180df77ce5",
   "metadata": {},
   "outputs": [
    {
     "name": "stdout",
     "output_type": "stream",
     "text": [
      "********************************************************************************\n",
      "MODEL = MultinomialNB(), VECTORIZER = TfidfVectorizer()\n",
      "********************************************************************************\n",
      "Best fitting parameters: {'tvec__max_df': 0.5, 'tvec__max_features': 5000, 'tvec__ngram_range': (1, 2)}\n",
      "\n",
      "Best score: 0.878\n",
      "Test score: 0.876\n",
      "\n",
      "Classification report:\n",
      "              precision    recall  f1-score   support\n",
      "\n",
      "           0       0.88      0.84      0.86      1172\n",
      "           1       0.87      0.91      0.89      1401\n",
      "\n",
      "    accuracy                           0.88      2573\n",
      "   macro avg       0.88      0.87      0.87      2573\n",
      "weighted avg       0.88      0.88      0.88      2573\n",
      "\n"
     ]
    },
    {
     "data": {
      "image/png": "[encoded data removed]",
      "text/plain": [
       "<Figure size 432x288 with 2 Axes>"
      ]
     },
     "metadata": {
      "needs_background": "light"
     },
     "output_type": "display_data"
    }
   ],
   "source": [
    "nb_tvec = model('tvec', TfidfVectorizer(), 'nb', MultinomialNB(), tvec_params)\n",
    "nb_tvec.head().T\n",
    "\n",
    "df_all.append(nb_tvec)"
   ]
  },
  {
   "cell_type": "code",
   "execution_count": 16,
   "id": "21f1616d-d28f-4c20-84f4-5db936e88ef7",
   "metadata": {},
   "outputs": [
    {
     "name": "stdout",
     "output_type": "stream",
     "text": [
      "********************************************************************************\n",
      "MODEL = MultinomialNB(), VECTORIZER = CountVectorizer()\n",
      "********************************************************************************\n",
      "Best fitting parameters: {'cvec__max_df': 0.5, 'cvec__max_features': 5000, 'cvec__ngram_range': (1, 2)}\n",
      "\n",
      "Best score: 0.893\n",
      "Test score: 0.887\n",
      "\n",
      "Classification report:\n",
      "              precision    recall  f1-score   support\n",
      "\n",
      "           0       0.87      0.88      0.88      1172\n",
      "           1       0.90      0.89      0.90      1401\n",
      "\n",
      "    accuracy                           0.89      2573\n",
      "   macro avg       0.89      0.89      0.89      2573\n",
      "weighted avg       0.89      0.89      0.89      2573\n",
      "\n"
     ]
    },
    {
     "data": {
      "image/png": "[encoded data removed]",
      "text/plain": [
       "<Figure size 432x288 with 2 Axes>"
      ]
     },
     "metadata": {
      "needs_background": "light"
     },
     "output_type": "display_data"
    }
   ],
   "source": [
    "nb_cvec = model('cvec', CountVectorizer(), 'nb', MultinomialNB(), cvec_params)\n",
    "nb_cvec.head().T\n",
    "\n",
    "df_all.append(nb_cvec)"
   ]
  },
  {
   "cell_type": "code",
   "execution_count": 17,
   "id": "ade2032f-9f2a-4392-bf32-28616aac175c",
   "metadata": {},
   "outputs": [
    {
     "name": "stdout",
     "output_type": "stream",
     "text": [
      "********************************************************************************\n",
      "MODEL = RandomForestClassifier(), VECTORIZER = TfidfVectorizer()\n",
      "********************************************************************************\n",
      "Best fitting parameters: {'tvec__max_df': 0.5, 'tvec__max_features': 5000, 'tvec__ngram_range': (1, 2)}\n",
      "\n",
      "Best score: 0.915\n",
      "Test score: 0.914\n",
      "\n",
      "Classification report:\n",
      "              precision    recall  f1-score   support\n",
      "\n",
      "           0       0.90      0.92      0.91      1172\n",
      "           1       0.93      0.91      0.92      1401\n",
      "\n",
      "    accuracy                           0.91      2573\n",
      "   macro avg       0.91      0.91      0.91      2573\n",
      "weighted avg       0.91      0.91      0.91      2573\n",
      "\n"
     ]
    },
    {
     "data": {
      "image/png": "[encoded data removed]",
      "text/plain": [
       "<Figure size 432x288 with 2 Axes>"
      ]
     },
     "metadata": {
      "needs_background": "light"
     },
     "output_type": "display_data"
    }
   ],
   "source": [
    "rf_tvec = model('tvec', TfidfVectorizer(), 'rf', RandomForestClassifier(), tvec_params)\n",
    "rf_tvec.head().T\n",
    "\n",
    "df_all.append(rf_tvec)"
   ]
  },
  {
   "cell_type": "code",
   "execution_count": 18,
   "id": "2d50e604-7097-4b66-8755-4796ee56c118",
   "metadata": {},
   "outputs": [
    {
     "name": "stdout",
     "output_type": "stream",
     "text": [
      "********************************************************************************\n",
      "MODEL = RandomForestClassifier(), VECTORIZER = CountVectorizer()\n",
      "********************************************************************************\n",
      "Best fitting parameters: {'cvec__max_df': 0.9, 'cvec__max_features': 5000, 'cvec__ngram_range': (1, 2)}\n",
      "\n",
      "Best score: 0.914\n",
      "Test score: 0.912\n",
      "\n",
      "Classification report:\n",
      "              precision    recall  f1-score   support\n",
      "\n",
      "           0       0.90      0.91      0.90      1172\n",
      "           1       0.93      0.91      0.92      1401\n",
      "\n",
      "    accuracy                           0.91      2573\n",
      "   macro avg       0.91      0.91      0.91      2573\n",
      "weighted avg       0.91      0.91      0.91      2573\n",
      "\n"
     ]
    },
    {
     "data": {
      "image/png": "[encoded data removed]",
      "text/plain": [
       "<Figure size 432x288 with 2 Axes>"
      ]
     },
     "metadata": {
      "needs_background": "light"
     },
     "output_type": "display_data"
    }
   ],
   "source": [
    "rf_cvec = model('cvec', CountVectorizer(), 'rf', RandomForestClassifier(), cvec_params)\n",
    "rf_cvec.head().T\n",
    "\n",
    "df_all.append(rf_cvec)"
   ]
  },
  {
   "cell_type": "code",
   "execution_count": 19,
   "id": "5cd76c61-8ef4-4e01-a33b-8fc2ca3a6a4b",
   "metadata": {},
   "outputs": [
    {
     "name": "stdout",
     "output_type": "stream",
     "text": [
      "********************************************************************************\n",
      "MODEL = AdaBoostClassifier(), VECTORIZER = TfidfVectorizer()\n",
      "********************************************************************************\n",
      "Best fitting parameters: {'tvec__max_df': 0.5, 'tvec__max_features': 5000, 'tvec__ngram_range': (1, 2)}\n",
      "\n",
      "Best score: 0.898\n",
      "Test score: 0.892\n",
      "\n",
      "Classification report:\n",
      "              precision    recall  f1-score   support\n",
      "\n",
      "           0       0.89      0.87      0.88      1172\n",
      "           1       0.89      0.91      0.90      1401\n",
      "\n",
      "    accuracy                           0.89      2573\n",
      "   macro avg       0.89      0.89      0.89      2573\n",
      "weighted avg       0.89      0.89      0.89      2573\n",
      "\n"
     ]
    },
    {
     "data": {
      "image/png": "[encoded data removed]",
      "text/plain": [
       "<Figure size 432x288 with 2 Axes>"
      ]
     },
     "metadata": {
      "needs_background": "light"
     },
     "output_type": "display_data"
    }
   ],
   "source": [
    "ada_tvec = model('tvec', TfidfVectorizer(), 'ada', AdaBoostClassifier(), tvec_params)\n",
    "ada_tvec.head().T\n",
    "\n",
    "df_all.append(ada_tvec)"
   ]
  },
  {
   "cell_type": "code",
   "execution_count": 20,
   "id": "4f8f51b3-0070-4094-8853-5581e6476ed6",
   "metadata": {},
   "outputs": [
    {
     "name": "stdout",
     "output_type": "stream",
     "text": [
      "********************************************************************************\n",
      "MODEL = AdaBoostClassifier(), VECTORIZER = CountVectorizer()\n",
      "********************************************************************************\n",
      "Best fitting parameters: {'cvec__max_df': 0.5, 'cvec__max_features': 5000, 'cvec__ngram_range': (1, 2)}\n",
      "\n",
      "Best score: 0.893\n",
      "Test score: 0.899\n",
      "\n",
      "Classification report:\n",
      "              precision    recall  f1-score   support\n",
      "\n",
      "           0       0.86      0.92      0.89      1172\n",
      "           1       0.93      0.88      0.90      1401\n",
      "\n",
      "    accuracy                           0.90      2573\n",
      "   macro avg       0.90      0.90      0.90      2573\n",
      "weighted avg       0.90      0.90      0.90      2573\n",
      "\n"
     ]
    },
    {
     "data": {
      "image/png": "[encoded data removed]",
      "text/plain": [
       "<Figure size 432x288 with 2 Axes>"
      ]
     },
     "metadata": {
      "needs_background": "light"
     },
     "output_type": "display_data"
    }
   ],
   "source": [
    "ada_cvec = model('cvec', CountVectorizer(), 'ada', AdaBoostClassifier(), cvec_params)\n",
    "ada_cvec.head().T\n",
    "\n",
    "df_all.append(ada_cvec)"
   ]
  },
  {
   "cell_type": "code",
   "execution_count": 21,
   "id": "368ec29b-b89e-4e3d-a8ba-6b25d638f2be",
   "metadata": {},
   "outputs": [
    {
     "name": "stdout",
     "output_type": "stream",
     "text": [
      "********************************************************************************\n",
      "MODEL = GradientBoostingClassifier(), VECTORIZER = TfidfVectorizer()\n",
      "********************************************************************************\n",
      "Best fitting parameters: {'tvec__max_df': 0.9, 'tvec__max_features': None, 'tvec__ngram_range': (1, 2)}\n",
      "\n",
      "Best score: 0.904\n",
      "Test score: 0.899\n",
      "\n",
      "Classification report:\n",
      "              precision    recall  f1-score   support\n",
      "\n",
      "           0       0.86      0.93      0.89      1172\n",
      "           1       0.94      0.88      0.90      1401\n",
      "\n",
      "    accuracy                           0.90      2573\n",
      "   macro avg       0.90      0.90      0.90      2573\n",
      "weighted avg       0.90      0.90      0.90      2573\n",
      "\n"
     ]
    },
    {
     "data": {
      "image/png": "[encoded data removed]",
      "text/plain": [
       "<Figure size 432x288 with 2 Axes>"
      ]
     },
     "metadata": {
      "needs_background": "light"
     },
     "output_type": "display_data"
    }
   ],
   "source": [
    "gb_tvec = model('tvec', TfidfVectorizer(), 'gb', GradientBoostingClassifier(), tvec_params)\n",
    "gb_tvec.head().T\n",
    "\n",
    "df_all.append(gb_tvec)"
   ]
  },
  {
   "cell_type": "code",
   "execution_count": 22,
   "id": "1793fe83-636c-43c4-9ed6-d8e9667ac885",
   "metadata": {},
   "outputs": [
    {
     "name": "stdout",
     "output_type": "stream",
     "text": [
      "********************************************************************************\n",
      "MODEL = GradientBoostingClassifier(), VECTORIZER = CountVectorizer()\n",
      "********************************************************************************\n",
      "Best fitting parameters: {'cvec__max_df': 0.5, 'cvec__max_features': 5000, 'cvec__ngram_range': (1, 1)}\n",
      "\n",
      "Best score: 0.904\n",
      "Test score: 0.9\n",
      "\n",
      "Classification report:\n",
      "              precision    recall  f1-score   support\n",
      "\n",
      "           0       0.86      0.93      0.89      1172\n",
      "           1       0.94      0.87      0.91      1401\n",
      "\n",
      "    accuracy                           0.90      2573\n",
      "   macro avg       0.90      0.90      0.90      2573\n",
      "weighted avg       0.90      0.90      0.90      2573\n",
      "\n"
     ]
    },
    {
     "data": {
      "image/png": "[encoded data removed]",
      "text/plain": [
       "<Figure size 432x288 with 2 Axes>"
      ]
     },
     "metadata": {
      "needs_background": "light"
     },
     "output_type": "display_data"
    }
   ],
   "source": [
    "gb_cvec = model('cvec', CountVectorizer(), 'gb', GradientBoostingClassifier(), cvec_params)\n",
    "gb_cvec.head().T\n",
    "\n",
    "df_all.append(gb_cvec)"
   ]
  },
  {
   "cell_type": "code",
   "execution_count": 23,
   "id": "7206eba8-4b68-4d85-9d94-6ffa3934025f",
   "metadata": {},
   "outputs": [],
   "source": [
    "full_df = pd.concat(df_all)"
   ]
  },
  {
   "cell_type": "code",
   "execution_count": 24,
   "id": "71851d88-555e-4ba3-80ac-37212fb39dde",
   "metadata": {},
   "outputs": [
    {
     "data": {
      "text/html": [
       "<div>\n",
       "<style scoped>\n",
       "    .dataframe tbody tr th:only-of-type {\n",
       "        vertical-align: middle;\n",
       "    }\n",
       "\n",
       "    .dataframe tbody tr th {\n",
       "        vertical-align: top;\n",
       "    }\n",
       "\n",
       "    .dataframe thead th {\n",
       "        text-align: right;\n",
       "    }\n",
       "</style>\n",
       "<table border=\"1\" class=\"dataframe\">\n",
       "  <thead>\n",
       "    <tr style=\"text-align: right;\">\n",
       "      <th></th>\n",
       "      <th>model_vec</th>\n",
       "      <th>best_params</th>\n",
       "      <th>train_score</th>\n",
       "      <th>test_score</th>\n",
       "      <th>sensitivity</th>\n",
       "      <th>specificity</th>\n",
       "      <th>precision</th>\n",
       "      <th>f1_score</th>\n",
       "      <th>tn</th>\n",
       "      <th>fp</th>\n",
       "      <th>fn</th>\n",
       "      <th>tp</th>\n",
       "    </tr>\n",
       "  </thead>\n",
       "  <tbody>\n",
       "    <tr>\n",
       "      <th>0</th>\n",
       "      <td>rf_tvec</td>\n",
       "      <td>{'tvec__max_df': 0.5, 'tvec__max_features': 5000, 'tvec__ngram_range': (1, 2)}</td>\n",
       "      <td>0.914733</td>\n",
       "      <td>0.914497</td>\n",
       "      <td>0.912206</td>\n",
       "      <td>0.917235</td>\n",
       "      <td>0.929455</td>\n",
       "      <td>0.920749</td>\n",
       "      <td>1075</td>\n",
       "      <td>97</td>\n",
       "      <td>123</td>\n",
       "      <td>1278</td>\n",
       "    </tr>\n",
       "    <tr>\n",
       "      <th>1</th>\n",
       "      <td>rf_cvec</td>\n",
       "      <td>{'cvec__max_df': 0.9, 'cvec__max_features': 5000, 'cvec__ngram_range': (1, 2)}</td>\n",
       "      <td>0.914472</td>\n",
       "      <td>0.912165</td>\n",
       "      <td>0.911492</td>\n",
       "      <td>0.912969</td>\n",
       "      <td>0.926033</td>\n",
       "      <td>0.918705</td>\n",
       "      <td>1070</td>\n",
       "      <td>102</td>\n",
       "      <td>124</td>\n",
       "      <td>1277</td>\n",
       "    </tr>\n",
       "    <tr>\n",
       "      <th>2</th>\n",
       "      <td>lr_tvec</td>\n",
       "      <td>{'tvec__max_df': 0.5, 'tvec__max_features': 5000, 'tvec__ngram_range': (1, 2)}</td>\n",
       "      <td>0.908769</td>\n",
       "      <td>0.902060</td>\n",
       "      <td>0.911492</td>\n",
       "      <td>0.890785</td>\n",
       "      <td>0.908897</td>\n",
       "      <td>0.910192</td>\n",
       "      <td>1044</td>\n",
       "      <td>128</td>\n",
       "      <td>124</td>\n",
       "      <td>1277</td>\n",
       "    </tr>\n",
       "    <tr>\n",
       "      <th>3</th>\n",
       "      <td>gb_cvec</td>\n",
       "      <td>{'cvec__max_df': 0.5, 'cvec__max_features': 5000, 'cvec__ngram_range': (1, 1)}</td>\n",
       "      <td>0.903586</td>\n",
       "      <td>0.900117</td>\n",
       "      <td>0.874375</td>\n",
       "      <td>0.930887</td>\n",
       "      <td>0.937979</td>\n",
       "      <td>0.905061</td>\n",
       "      <td>1091</td>\n",
       "      <td>81</td>\n",
       "      <td>176</td>\n",
       "      <td>1225</td>\n",
       "    </tr>\n",
       "    <tr>\n",
       "      <th>4</th>\n",
       "      <td>gb_tvec</td>\n",
       "      <td>{'tvec__max_df': 0.9, 'tvec__max_features': None, 'tvec__ngram_range': (1, 2)}</td>\n",
       "      <td>0.903976</td>\n",
       "      <td>0.899339</td>\n",
       "      <td>0.875089</td>\n",
       "      <td>0.928328</td>\n",
       "      <td>0.935878</td>\n",
       "      <td>0.904463</td>\n",
       "      <td>1088</td>\n",
       "      <td>84</td>\n",
       "      <td>175</td>\n",
       "      <td>1226</td>\n",
       "    </tr>\n",
       "    <tr>\n",
       "      <th>5</th>\n",
       "      <td>ada_cvec</td>\n",
       "      <td>{'cvec__max_df': 0.5, 'cvec__max_features': 5000, 'cvec__ngram_range': (1, 2)}</td>\n",
       "      <td>0.893092</td>\n",
       "      <td>0.898951</td>\n",
       "      <td>0.879372</td>\n",
       "      <td>0.922355</td>\n",
       "      <td>0.931217</td>\n",
       "      <td>0.904552</td>\n",
       "      <td>1081</td>\n",
       "      <td>91</td>\n",
       "      <td>169</td>\n",
       "      <td>1232</td>\n",
       "    </tr>\n",
       "    <tr>\n",
       "      <th>6</th>\n",
       "      <td>lr_cvec</td>\n",
       "      <td>{'cvec__max_df': 0.5, 'cvec__max_features': None, 'cvec__ngram_range': (1, 2)}</td>\n",
       "      <td>0.904495</td>\n",
       "      <td>0.897785</td>\n",
       "      <td>0.887223</td>\n",
       "      <td>0.910410</td>\n",
       "      <td>0.922107</td>\n",
       "      <td>0.904329</td>\n",
       "      <td>1067</td>\n",
       "      <td>105</td>\n",
       "      <td>158</td>\n",
       "      <td>1243</td>\n",
       "    </tr>\n",
       "    <tr>\n",
       "      <th>7</th>\n",
       "      <td>ada_tvec</td>\n",
       "      <td>{'tvec__max_df': 0.5, 'tvec__max_features': 5000, 'tvec__ngram_range': (1, 2)}</td>\n",
       "      <td>0.897626</td>\n",
       "      <td>0.891955</td>\n",
       "      <td>0.914347</td>\n",
       "      <td>0.865188</td>\n",
       "      <td>0.890202</td>\n",
       "      <td>0.902113</td>\n",
       "      <td>1014</td>\n",
       "      <td>158</td>\n",
       "      <td>120</td>\n",
       "      <td>1281</td>\n",
       "    </tr>\n",
       "    <tr>\n",
       "      <th>8</th>\n",
       "      <td>nb_cvec</td>\n",
       "      <td>{'cvec__max_df': 0.5, 'cvec__max_features': 5000, 'cvec__ngram_range': (1, 2)}</td>\n",
       "      <td>0.892962</td>\n",
       "      <td>0.886514</td>\n",
       "      <td>0.892934</td>\n",
       "      <td>0.878840</td>\n",
       "      <td>0.898062</td>\n",
       "      <td>0.895490</td>\n",
       "      <td>1030</td>\n",
       "      <td>142</td>\n",
       "      <td>150</td>\n",
       "      <td>1251</td>\n",
       "    </tr>\n",
       "    <tr>\n",
       "      <th>9</th>\n",
       "      <td>nb_tvec</td>\n",
       "      <td>{'tvec__max_df': 0.5, 'tvec__max_features': 5000, 'tvec__ngram_range': (1, 2)}</td>\n",
       "      <td>0.878060</td>\n",
       "      <td>0.876409</td>\n",
       "      <td>0.905782</td>\n",
       "      <td>0.841297</td>\n",
       "      <td>0.872165</td>\n",
       "      <td>0.888655</td>\n",
       "      <td>986</td>\n",
       "      <td>186</td>\n",
       "      <td>132</td>\n",
       "      <td>1269</td>\n",
       "    </tr>\n",
       "    <tr>\n",
       "      <th>10</th>\n",
       "      <td>knn_tvec</td>\n",
       "      <td>{'tvec__max_df': 0.5, 'tvec__max_features': None, 'tvec__ngram_range': (1, 1)}</td>\n",
       "      <td>0.804845</td>\n",
       "      <td>0.780801</td>\n",
       "      <td>0.802284</td>\n",
       "      <td>0.755119</td>\n",
       "      <td>0.796598</td>\n",
       "      <td>0.799431</td>\n",
       "      <td>885</td>\n",
       "      <td>287</td>\n",
       "      <td>277</td>\n",
       "      <td>1124</td>\n",
       "    </tr>\n",
       "    <tr>\n",
       "      <th>11</th>\n",
       "      <td>knn_cvec</td>\n",
       "      <td>{'cvec__max_df': 0.5, 'cvec__max_features': 5000, 'cvec__ngram_range': (1, 1)}</td>\n",
       "      <td>0.620580</td>\n",
       "      <td>0.614458</td>\n",
       "      <td>0.307637</td>\n",
       "      <td>0.981229</td>\n",
       "      <td>0.951435</td>\n",
       "      <td>0.464941</td>\n",
       "      <td>1150</td>\n",
       "      <td>22</td>\n",
       "      <td>970</td>\n",
       "      <td>431</td>\n",
       "    </tr>\n",
       "  </tbody>\n",
       "</table>\n",
       "</div>"
      ],
      "text/plain": [
       "   model_vec  \\\n",
       "0    rf_tvec   \n",
       "1    rf_cvec   \n",
       "2    lr_tvec   \n",
       "3    gb_cvec   \n",
       "4    gb_tvec   \n",
       "5   ada_cvec   \n",
       "6    lr_cvec   \n",
       "7   ada_tvec   \n",
       "8    nb_cvec   \n",
       "9    nb_tvec   \n",
       "10  knn_tvec   \n",
       "11  knn_cvec   \n",
       "\n",
       "                                                                       best_params  \\\n",
       "0   {'tvec__max_df': 0.5, 'tvec__max_features': 5000, 'tvec__ngram_range': (1, 2)}   \n",
       "1   {'cvec__max_df': 0.9, 'cvec__max_features': 5000, 'cvec__ngram_range': (1, 2)}   \n",
       "2   {'tvec__max_df': 0.5, 'tvec__max_features': 5000, 'tvec__ngram_range': (1, 2)}   \n",
       "3   {'cvec__max_df': 0.5, 'cvec__max_features': 5000, 'cvec__ngram_range': (1, 1)}   \n",
       "4   {'tvec__max_df': 0.9, 'tvec__max_features': None, 'tvec__ngram_range': (1, 2)}   \n",
       "5   {'cvec__max_df': 0.5, 'cvec__max_features': 5000, 'cvec__ngram_range': (1, 2)}   \n",
       "6   {'cvec__max_df': 0.5, 'cvec__max_features': None, 'cvec__ngram_range': (1, 2)}   \n",
       "7   {'tvec__max_df': 0.5, 'tvec__max_features': 5000, 'tvec__ngram_range': (1, 2)}   \n",
       "8   {'cvec__max_df': 0.5, 'cvec__max_features': 5000, 'cvec__ngram_range': (1, 2)}   \n",
       "9   {'tvec__max_df': 0.5, 'tvec__max_features': 5000, 'tvec__ngram_range': (1, 2)}   \n",
       "10  {'tvec__max_df': 0.5, 'tvec__max_features': None, 'tvec__ngram_range': (1, 1)}   \n",
       "11  {'cvec__max_df': 0.5, 'cvec__max_features': 5000, 'cvec__ngram_range': (1, 1)}   \n",
       "\n",
       "    train_score  test_score  sensitivity  specificity  precision  f1_score  \\\n",
       "0      0.914733    0.914497     0.912206     0.917235   0.929455  0.920749   \n",
       "1      0.914472    0.912165     0.911492     0.912969   0.926033  0.918705   \n",
       "2      0.908769    0.902060     0.911492     0.890785   0.908897  0.910192   \n",
       "3      0.903586    0.900117     0.874375     0.930887   0.937979  0.905061   \n",
       "4      0.903976    0.899339     0.875089     0.928328   0.935878  0.904463   \n",
       "5      0.893092    0.898951     0.879372     0.922355   0.931217  0.904552   \n",
       "6      0.904495    0.897785     0.887223     0.910410   0.922107  0.904329   \n",
       "7      0.897626    0.891955     0.914347     0.865188   0.890202  0.902113   \n",
       "8      0.892962    0.886514     0.892934     0.878840   0.898062  0.895490   \n",
       "9      0.878060    0.876409     0.905782     0.841297   0.872165  0.888655   \n",
       "10     0.804845    0.780801     0.802284     0.755119   0.796598  0.799431   \n",
       "11     0.620580    0.614458     0.307637     0.981229   0.951435  0.464941   \n",
       "\n",
       "      tn   fp   fn    tp  \n",
       "0   1075   97  123  1278  \n",
       "1   1070  102  124  1277  \n",
       "2   1044  128  124  1277  \n",
       "3   1091   81  176  1225  \n",
       "4   1088   84  175  1226  \n",
       "5   1081   91  169  1232  \n",
       "6   1067  105  158  1243  \n",
       "7   1014  158  120  1281  \n",
       "8   1030  142  150  1251  \n",
       "9    986  186  132  1269  \n",
       "10   885  287  277  1124  \n",
       "11  1150   22  970   431  "
      ]
     },
     "execution_count": 24,
     "metadata": {},
     "output_type": "execute_result"
    }
   ],
   "source": [
    "pd.set_option('display.max_colwidth', None)\n",
    "full_df.sort_values(by=['test_score'], ascending=False).reset_index(drop=True)"
   ]
  },
  {
   "cell_type": "markdown",
   "id": "ac972401-5afa-464c-85ce-f978a023755e",
   "metadata": {},
   "source": [
    "### Feature Importance"
   ]
  },
  {
   "cell_type": "code",
   "execution_count": 49,
   "id": "445499d0-6652-448e-9bbb-493a2a931133",
   "metadata": {},
   "outputs": [
    {
     "data": {
      "text/html": [
       "<div>\n",
       "<style scoped>\n",
       "    .dataframe tbody tr th:only-of-type {\n",
       "        vertical-align: middle;\n",
       "    }\n",
       "\n",
       "    .dataframe tbody tr th {\n",
       "        vertical-align: top;\n",
       "    }\n",
       "\n",
       "    .dataframe thead th {\n",
       "        text-align: right;\n",
       "    }\n",
       "</style>\n",
       "<table border=\"1\" class=\"dataframe\">\n",
       "  <thead>\n",
       "    <tr style=\"text-align: right;\">\n",
       "      <th></th>\n",
       "      <th>feature</th>\n",
       "      <th>feature_importance</th>\n",
       "    </tr>\n",
       "  </thead>\n",
       "  <tbody>\n",
       "    <tr>\n",
       "      <th>2551</th>\n",
       "      <td>keto</td>\n",
       "      <td>0.137804</td>\n",
       "    </tr>\n",
       "    <tr>\n",
       "      <th>1661</th>\n",
       "      <td>fast</td>\n",
       "      <td>0.059439</td>\n",
       "    </tr>\n",
       "    <tr>\n",
       "      <th>824</th>\n",
       "      <td>carb</td>\n",
       "      <td>0.029370</td>\n",
       "    </tr>\n",
       "    <tr>\n",
       "      <th>80</th>\n",
       "      <td>168</td>\n",
       "      <td>0.022278</td>\n",
       "    </tr>\n",
       "    <tr>\n",
       "      <th>4080</th>\n",
       "      <td>start keto</td>\n",
       "      <td>0.014934</td>\n",
       "    </tr>\n",
       "    <tr>\n",
       "      <th>4855</th>\n",
       "      <td>window</td>\n",
       "      <td>0.013698</td>\n",
       "    </tr>\n",
       "    <tr>\n",
       "      <th>2268</th>\n",
       "      <td>hour</td>\n",
       "      <td>0.013022</td>\n",
       "    </tr>\n",
       "    <tr>\n",
       "      <th>3297</th>\n",
       "      <td>omad</td>\n",
       "      <td>0.010884</td>\n",
       "    </tr>\n",
       "    <tr>\n",
       "      <th>102</th>\n",
       "      <td>186</td>\n",
       "      <td>0.009849</td>\n",
       "    </tr>\n",
       "    <tr>\n",
       "      <th>1266</th>\n",
       "      <td>diet</td>\n",
       "      <td>0.007986</td>\n",
       "    </tr>\n",
       "  </tbody>\n",
       "</table>\n",
       "</div>"
      ],
      "text/plain": [
       "         feature  feature_importance\n",
       "2551        keto            0.137804\n",
       "1661        fast            0.059439\n",
       "824         carb            0.029370\n",
       "80           168            0.022278\n",
       "4080  start keto            0.014934\n",
       "4855      window            0.013698\n",
       "2268        hour            0.013022\n",
       "3297        omad            0.010884\n",
       "102          186            0.009849\n",
       "1266        diet            0.007986"
      ]
     },
     "execution_count": 49,
     "metadata": {},
     "output_type": "execute_result"
    }
   ],
   "source": [
    "v = TfidfVectorizer(ngram_range=(1, 2), max_df=0.5, max_features=5000)\n",
    "x = v.fit_transform(df['cleantext_stem'])\n",
    " \n",
    " \n",
    "rf=RandomForestClassifier()\n",
    "rf.fit(x,df['subreddit'])\n",
    " \n",
    "#we are not getting the absolute value\n",
    "feature_importance=pd.DataFrame({'feature':v.get_feature_names(),'feature_importance':rf.feature_importances_})\n",
    "feature_importance.sort_values('feature_importance',ascending=False).head(10)"
   ]
  },
  {
   "cell_type": "markdown",
   "id": "a1da08a4-725c-4a9a-b039-4c3ea98f4a20",
   "metadata": {},
   "source": [
    "Feature Importance is a score assigned to the features of a Machine Learning model that defines how “important” is a feature to the model’s prediction. By applying our best model -- Random Forest Classifier model with TF-IDF Vectorizer, we got the feature importance of 'keto' as the most important features and followed by 'fast' as the second most important feature."
   ]
  },
  {
   "cell_type": "markdown",
   "id": "1d19384d-4eb8-460c-8514-d31401a79d3d",
   "metadata": {},
   "source": [
    "## Evaluation and Conceptual Understanding\n",
    "\n",
    "Overall our models performed quite well. As compared to the baseline model, our model are outperformed. Our train and test scores for each model are very similar, indicating that our models are not overfit. The accuracy overall are quite high for basic model evaluation except KNN model with Count Vectorizer where the accurancy score is only 62%.\n",
    "\n",
    "Generally, TF-IDF transformation works better than Count Vectorizer in model fitting. In Count Vectorizer we only count the number of times a word appears in the document which results in biasing in favour of most frequent words. This ends up in ignoring rare words which could have helped is in processing our data more efficiently. However, in TF-IDF Vectorizer, we consider overall document weightage of a word. It helps us in dealing with most frequent words, using it we can penalize them. TfidfVectorizer weights the word counts by a measure of how often they appear in the documents.\n",
    "\n",
    "From the dataframe above, we can see that the Random Forest model tops the other models in 4 of the 6 metrics we evaluate, except precision and specificity. A score greater than 90% suggests that the model is highly accurate when predicting subreddit. Confusion Matrix from Random Forest shows that there are total 225 false subreddits when running through our test model.\n",
    "\n",
    "As our problem statement do not focus on capturing either positive predictions or negative predicitions, we should use F1 metric to eveluate our model in this case. Simply stated the F1 score sort of maintains a balance between the precision and recall for your classifier. If our precision is low, the F1 is low and if the recall is low again our F1 score is low ([Reference](https://towardsdatascience.com/the-5-classification-evaluation-metrics-you-must-know-aa97784ff226)). By taking F1 metric from our Random Forest model, the interpretation of this value is that on a scale from 0 (worst) to 1 (best), the model’s ability to both capture positive cases and be accurate with the cases it does capture is 0.92, which is very good value.\n"
   ]
  },
  {
   "cell_type": "markdown",
   "id": "3a88be8a-d2e4-404a-b612-5350386f82fb",
   "metadata": {},
   "source": [
    "# Conclusion and Recommendations\n",
    "In conclusion, Random Forest is the most accurate model tested, sporting about an 91% accuracy. Susequent models that we can use for the subreddits classification are Logistic Regeression and Gradient Boosting Classifier. Furtherore, TF-IDF transformation works better than Count Vectorizer in model fitting.\n",
    "\n",
    "From our EDA, majority of the subrredits are about 'Keto Diet'. This could indicate that more people are actually interested on keto way. Besides that, we also found that many people are actually on the reddits to seek advices or suggestions to help on their process on interminttent fasting of keto. By refering to scietific article, we realised that both intermittent fasting and keto diet have its advantages and disadvantages. Also, from Dr Anson's article, his advice is to experiment with the dietary plans and see if one works best for you ([Reference](https://drstephenanton.com/keto-vs-intermittent-fasting/)). Therefore, instead of advocating particular way of diet, we could provide professional consultation service toward people who need help throughout their weightloss/health improvement journey via either intermittent fasting or keto diet.\n",
    "\n",
    "Besides that, sentiment analysis allow us to understand that majority of the posts are positive comments, which possess 75.1%. \n",
    "\n",
    "Last but not least, by moving forward with this project, I could do far more exploration with setting different model parameters to check for the improvement. I'd recommend adding more features to the API and to models to strengthen accuracy as well as potential for modeling. Furthermore, I'd explore data drift prevention as surredits post can be updated very soon. It might cause model performance degradation when we use current model to apply on updated posts."
   ]
  },
  {
   "cell_type": "code",
   "execution_count": null,
   "id": "bc5fd027-cfd1-4047-900f-020383df7474",
   "metadata": {},
   "outputs": [],
   "source": []
  }
 ],
 "metadata": {
  "kernelspec": {
   "display_name": "Python 3 (ipykernel)",
   "language": "python",
   "name": "python3"
  },
  "language_info": {
   "codemirror_mode": {
    "name": "ipython",
    "version": 3
   },
   "file_extension": ".py",
   "mimetype": "text/x-python",
   "name": "python",
   "nbconvert_exporter": "python",
   "pygments_lexer": "ipython3",
   "version": "3.9.12"
  }
 },
 "nbformat": 4,
 "nbformat_minor": 5
}
